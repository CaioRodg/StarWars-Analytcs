{
  "nbformat": 4,
  "nbformat_minor": 0,
  "metadata": {
    "colab": {
      "name": "Análise de Dados - Movie: Star Wars ",
      "provenance": [],
      "collapsed_sections": [],
      "authorship_tag": "ABX9TyOo6HLDBBXwTLbHQNkA1SuK"
    },
    "kernelspec": {
      "name": "python3",
      "display_name": "Python 3"
    },
    "language_info": {
      "name": "python"
    }
  },
  "cells": [
    {
      "cell_type": "markdown",
      "source": [
        "# **Análise de dados a partir de informações do universo de StarWars.**"
      ],
      "metadata": {
        "id": "K9b3l5sND0TK"
      }
    },
    {
      "cell_type": "markdown",
      "source": [
        "Irei utilizar algumas bibliotecas para o tratamento de dados, como de costume, irei utilizar a biblioteca **PANDAS** importado como **pd**, segue link para documentação: https://pandas.pydata.org/docs/user_guide/index.html"
      ],
      "metadata": {
        "id": "tEcdMtKbEV1r"
      }
    },
    {
      "cell_type": "markdown",
      "source": [
        "Também usaremos outra biblioteca para que possamos inserir informações gráficas referente à nossa análise, são elas: **MATPLOTLIB** e **SEABORN**.\n",
        "\n",
        "\n",
        "\n",
        "*   https://matplotlib.org/devdocs/tutorials/introductory/quick_start.html\n",
        "*   https://seaborn.pydata.org/introduction.html\n",
        "\n"
      ],
      "metadata": {
        "id": "M1B7pKhxF5qM"
      }
    },
    {
      "cell_type": "markdown",
      "source": [
        "Para essa analise utilizaremos alguns informativos que compõe esta *database*, são elas:\n",
        "\n",
        "*   **Characters**: Indica características dos personagens.\n",
        "*   **Planets**: Indica características dos planetas\n",
        "*   **Species**: Indica características das espécies\n",
        "*   **Starships**: Indica características das naves usadas\n",
        "*   **Vehicles**: Indica características dos veículos usados."
      ],
      "metadata": {
        "id": "1UoosfJYKQq1"
      }
    },
    {
      "cell_type": "markdown",
      "source": [
        "Faremos as importações das bibliotecas e em seguida olharemos o primeiro dataset que iremos avaliar. "
      ],
      "metadata": {
        "id": "6gSntA8SLzvm"
      }
    },
    {
      "cell_type": "code",
      "source": [
        "import pandas as pd\n",
        "import matplotlib.pyplot as plt\n",
        "import seaborn as sns\n",
        "%matplotlib inline"
      ],
      "metadata": {
        "id": "omzFiaMyL9Xt"
      },
      "execution_count": null,
      "outputs": []
    },
    {
      "cell_type": "markdown",
      "source": [
        "Como um grande entusiasta de filmes e ficção, estarei abordando este tema para o meu primeiro projeto, dataset é originário do Kaggle: https://www.kaggle.com/datasets/jsphyg/star-wars"
      ],
      "metadata": {
        "id": "K7JYcSLEMYY3"
      }
    },
    {
      "cell_type": "code",
      "source": [
        "df = pd.read_csv('/content/characters.csv', sep=',')"
      ],
      "metadata": {
        "id": "9XCX7FGuM-OE"
      },
      "execution_count": null,
      "outputs": []
    },
    {
      "cell_type": "markdown",
      "source": [
        "Usarei agora um **.head()** para que possamos ter vislumbre do que se trata esse dataset, como suas linhas e colunas.\n",
        "Estarei limitando a uma quantidade de **10**, desta formando evitando carregar todo o dataset."
      ],
      "metadata": {
        "id": "u5uFPvdaN72h"
      }
    },
    {
      "cell_type": "code",
      "source": [
        "df.head(100)"
      ],
      "metadata": {
        "colab": {
          "base_uri": "https://localhost:8080/",
          "height": 424
        },
        "id": "gMHrRNIBOb4U",
        "outputId": "37ed0a96-bda8-4c23-8985-7ee117f0563e"
      },
      "execution_count": null,
      "outputs": [
        {
          "output_type": "execute_result",
          "data": {
            "text/plain": [
              "              name  height mass hair_color   skin_color eye_color birth_year  \\\n",
              "0   Luke Skywalker   172.0   77      blond         fair      blue      19BBY   \n",
              "1            C-3PO   167.0   75        NaN         gold    yellow     112BBY   \n",
              "2            R2-D2    96.0   32        NaN  white, blue       red      33BBY   \n",
              "3      Darth Vader   202.0  136       none        white    yellow    41.9BBY   \n",
              "4      Leia Organa   150.0   49      brown        light     brown      19BBY   \n",
              "..             ...     ...  ...        ...          ...       ...        ...   \n",
              "82             Rey     NaN  NaN      brown        light     hazel        NaN   \n",
              "83     Poe Dameron     NaN  NaN      brown        light     brown        NaN   \n",
              "84             BB8     NaN  NaN       none         none     black        NaN   \n",
              "85  Captain Phasma     NaN  NaN        NaN          NaN       NaN        NaN   \n",
              "86   Padmé Amidala   165.0   45      brown        light     brown      46BBY   \n",
              "\n",
              "    gender homeworld species  \n",
              "0     male  Tatooine   Human  \n",
              "1      NaN  Tatooine   Droid  \n",
              "2      NaN     Naboo   Droid  \n",
              "3     male  Tatooine   Human  \n",
              "4   female  Alderaan   Human  \n",
              "..     ...       ...     ...  \n",
              "82  female       NaN   Human  \n",
              "83    male       NaN   Human  \n",
              "84    none       NaN   Droid  \n",
              "85  female       NaN     NaN  \n",
              "86  female     Naboo   Human  \n",
              "\n",
              "[87 rows x 10 columns]"
            ],
            "text/html": [
              "\n",
              "  <div id=\"df-635b6e18-1e8c-42c4-9fbc-fa3407ebcb04\">\n",
              "    <div class=\"colab-df-container\">\n",
              "      <div>\n",
              "<style scoped>\n",
              "    .dataframe tbody tr th:only-of-type {\n",
              "        vertical-align: middle;\n",
              "    }\n",
              "\n",
              "    .dataframe tbody tr th {\n",
              "        vertical-align: top;\n",
              "    }\n",
              "\n",
              "    .dataframe thead th {\n",
              "        text-align: right;\n",
              "    }\n",
              "</style>\n",
              "<table border=\"1\" class=\"dataframe\">\n",
              "  <thead>\n",
              "    <tr style=\"text-align: right;\">\n",
              "      <th></th>\n",
              "      <th>name</th>\n",
              "      <th>height</th>\n",
              "      <th>mass</th>\n",
              "      <th>hair_color</th>\n",
              "      <th>skin_color</th>\n",
              "      <th>eye_color</th>\n",
              "      <th>birth_year</th>\n",
              "      <th>gender</th>\n",
              "      <th>homeworld</th>\n",
              "      <th>species</th>\n",
              "    </tr>\n",
              "  </thead>\n",
              "  <tbody>\n",
              "    <tr>\n",
              "      <th>0</th>\n",
              "      <td>Luke Skywalker</td>\n",
              "      <td>172.0</td>\n",
              "      <td>77</td>\n",
              "      <td>blond</td>\n",
              "      <td>fair</td>\n",
              "      <td>blue</td>\n",
              "      <td>19BBY</td>\n",
              "      <td>male</td>\n",
              "      <td>Tatooine</td>\n",
              "      <td>Human</td>\n",
              "    </tr>\n",
              "    <tr>\n",
              "      <th>1</th>\n",
              "      <td>C-3PO</td>\n",
              "      <td>167.0</td>\n",
              "      <td>75</td>\n",
              "      <td>NaN</td>\n",
              "      <td>gold</td>\n",
              "      <td>yellow</td>\n",
              "      <td>112BBY</td>\n",
              "      <td>NaN</td>\n",
              "      <td>Tatooine</td>\n",
              "      <td>Droid</td>\n",
              "    </tr>\n",
              "    <tr>\n",
              "      <th>2</th>\n",
              "      <td>R2-D2</td>\n",
              "      <td>96.0</td>\n",
              "      <td>32</td>\n",
              "      <td>NaN</td>\n",
              "      <td>white, blue</td>\n",
              "      <td>red</td>\n",
              "      <td>33BBY</td>\n",
              "      <td>NaN</td>\n",
              "      <td>Naboo</td>\n",
              "      <td>Droid</td>\n",
              "    </tr>\n",
              "    <tr>\n",
              "      <th>3</th>\n",
              "      <td>Darth Vader</td>\n",
              "      <td>202.0</td>\n",
              "      <td>136</td>\n",
              "      <td>none</td>\n",
              "      <td>white</td>\n",
              "      <td>yellow</td>\n",
              "      <td>41.9BBY</td>\n",
              "      <td>male</td>\n",
              "      <td>Tatooine</td>\n",
              "      <td>Human</td>\n",
              "    </tr>\n",
              "    <tr>\n",
              "      <th>4</th>\n",
              "      <td>Leia Organa</td>\n",
              "      <td>150.0</td>\n",
              "      <td>49</td>\n",
              "      <td>brown</td>\n",
              "      <td>light</td>\n",
              "      <td>brown</td>\n",
              "      <td>19BBY</td>\n",
              "      <td>female</td>\n",
              "      <td>Alderaan</td>\n",
              "      <td>Human</td>\n",
              "    </tr>\n",
              "    <tr>\n",
              "      <th>...</th>\n",
              "      <td>...</td>\n",
              "      <td>...</td>\n",
              "      <td>...</td>\n",
              "      <td>...</td>\n",
              "      <td>...</td>\n",
              "      <td>...</td>\n",
              "      <td>...</td>\n",
              "      <td>...</td>\n",
              "      <td>...</td>\n",
              "      <td>...</td>\n",
              "    </tr>\n",
              "    <tr>\n",
              "      <th>82</th>\n",
              "      <td>Rey</td>\n",
              "      <td>NaN</td>\n",
              "      <td>NaN</td>\n",
              "      <td>brown</td>\n",
              "      <td>light</td>\n",
              "      <td>hazel</td>\n",
              "      <td>NaN</td>\n",
              "      <td>female</td>\n",
              "      <td>NaN</td>\n",
              "      <td>Human</td>\n",
              "    </tr>\n",
              "    <tr>\n",
              "      <th>83</th>\n",
              "      <td>Poe Dameron</td>\n",
              "      <td>NaN</td>\n",
              "      <td>NaN</td>\n",
              "      <td>brown</td>\n",
              "      <td>light</td>\n",
              "      <td>brown</td>\n",
              "      <td>NaN</td>\n",
              "      <td>male</td>\n",
              "      <td>NaN</td>\n",
              "      <td>Human</td>\n",
              "    </tr>\n",
              "    <tr>\n",
              "      <th>84</th>\n",
              "      <td>BB8</td>\n",
              "      <td>NaN</td>\n",
              "      <td>NaN</td>\n",
              "      <td>none</td>\n",
              "      <td>none</td>\n",
              "      <td>black</td>\n",
              "      <td>NaN</td>\n",
              "      <td>none</td>\n",
              "      <td>NaN</td>\n",
              "      <td>Droid</td>\n",
              "    </tr>\n",
              "    <tr>\n",
              "      <th>85</th>\n",
              "      <td>Captain Phasma</td>\n",
              "      <td>NaN</td>\n",
              "      <td>NaN</td>\n",
              "      <td>NaN</td>\n",
              "      <td>NaN</td>\n",
              "      <td>NaN</td>\n",
              "      <td>NaN</td>\n",
              "      <td>female</td>\n",
              "      <td>NaN</td>\n",
              "      <td>NaN</td>\n",
              "    </tr>\n",
              "    <tr>\n",
              "      <th>86</th>\n",
              "      <td>Padmé Amidala</td>\n",
              "      <td>165.0</td>\n",
              "      <td>45</td>\n",
              "      <td>brown</td>\n",
              "      <td>light</td>\n",
              "      <td>brown</td>\n",
              "      <td>46BBY</td>\n",
              "      <td>female</td>\n",
              "      <td>Naboo</td>\n",
              "      <td>Human</td>\n",
              "    </tr>\n",
              "  </tbody>\n",
              "</table>\n",
              "<p>87 rows × 10 columns</p>\n",
              "</div>\n",
              "      <button class=\"colab-df-convert\" onclick=\"convertToInteractive('df-635b6e18-1e8c-42c4-9fbc-fa3407ebcb04')\"\n",
              "              title=\"Convert this dataframe to an interactive table.\"\n",
              "              style=\"display:none;\">\n",
              "        \n",
              "  <svg xmlns=\"http://www.w3.org/2000/svg\" height=\"24px\"viewBox=\"0 0 24 24\"\n",
              "       width=\"24px\">\n",
              "    <path d=\"M0 0h24v24H0V0z\" fill=\"none\"/>\n",
              "    <path d=\"M18.56 5.44l.94 2.06.94-2.06 2.06-.94-2.06-.94-.94-2.06-.94 2.06-2.06.94zm-11 1L8.5 8.5l.94-2.06 2.06-.94-2.06-.94L8.5 2.5l-.94 2.06-2.06.94zm10 10l.94 2.06.94-2.06 2.06-.94-2.06-.94-.94-2.06-.94 2.06-2.06.94z\"/><path d=\"M17.41 7.96l-1.37-1.37c-.4-.4-.92-.59-1.43-.59-.52 0-1.04.2-1.43.59L10.3 9.45l-7.72 7.72c-.78.78-.78 2.05 0 2.83L4 21.41c.39.39.9.59 1.41.59.51 0 1.02-.2 1.41-.59l7.78-7.78 2.81-2.81c.8-.78.8-2.07 0-2.86zM5.41 20L4 18.59l7.72-7.72 1.47 1.35L5.41 20z\"/>\n",
              "  </svg>\n",
              "      </button>\n",
              "      \n",
              "  <style>\n",
              "    .colab-df-container {\n",
              "      display:flex;\n",
              "      flex-wrap:wrap;\n",
              "      gap: 12px;\n",
              "    }\n",
              "\n",
              "    .colab-df-convert {\n",
              "      background-color: #E8F0FE;\n",
              "      border: none;\n",
              "      border-radius: 50%;\n",
              "      cursor: pointer;\n",
              "      display: none;\n",
              "      fill: #1967D2;\n",
              "      height: 32px;\n",
              "      padding: 0 0 0 0;\n",
              "      width: 32px;\n",
              "    }\n",
              "\n",
              "    .colab-df-convert:hover {\n",
              "      background-color: #E2EBFA;\n",
              "      box-shadow: 0px 1px 2px rgba(60, 64, 67, 0.3), 0px 1px 3px 1px rgba(60, 64, 67, 0.15);\n",
              "      fill: #174EA6;\n",
              "    }\n",
              "\n",
              "    [theme=dark] .colab-df-convert {\n",
              "      background-color: #3B4455;\n",
              "      fill: #D2E3FC;\n",
              "    }\n",
              "\n",
              "    [theme=dark] .colab-df-convert:hover {\n",
              "      background-color: #434B5C;\n",
              "      box-shadow: 0px 1px 3px 1px rgba(0, 0, 0, 0.15);\n",
              "      filter: drop-shadow(0px 1px 2px rgba(0, 0, 0, 0.3));\n",
              "      fill: #FFFFFF;\n",
              "    }\n",
              "  </style>\n",
              "\n",
              "      <script>\n",
              "        const buttonEl =\n",
              "          document.querySelector('#df-635b6e18-1e8c-42c4-9fbc-fa3407ebcb04 button.colab-df-convert');\n",
              "        buttonEl.style.display =\n",
              "          google.colab.kernel.accessAllowed ? 'block' : 'none';\n",
              "\n",
              "        async function convertToInteractive(key) {\n",
              "          const element = document.querySelector('#df-635b6e18-1e8c-42c4-9fbc-fa3407ebcb04');\n",
              "          const dataTable =\n",
              "            await google.colab.kernel.invokeFunction('convertToInteractive',\n",
              "                                                     [key], {});\n",
              "          if (!dataTable) return;\n",
              "\n",
              "          const docLinkHtml = 'Like what you see? Visit the ' +\n",
              "            '<a target=\"_blank\" href=https://colab.research.google.com/notebooks/data_table.ipynb>data table notebook</a>'\n",
              "            + ' to learn more about interactive tables.';\n",
              "          element.innerHTML = '';\n",
              "          dataTable['output_type'] = 'display_data';\n",
              "          await google.colab.output.renderOutput(dataTable, element);\n",
              "          const docLink = document.createElement('div');\n",
              "          docLink.innerHTML = docLinkHtml;\n",
              "          element.appendChild(docLink);\n",
              "        }\n",
              "      </script>\n",
              "    </div>\n",
              "  </div>\n",
              "  "
            ]
          },
          "metadata": {},
          "execution_count": 27
        }
      ]
    },
    {
      "cell_type": "markdown",
      "source": [
        "Obtendo essa visão conseguimos notar algumas informações que seriam relevantes para nossa análise, são elas:\n",
        "\n",
        "1.   **Gender**: Identificação sexo dos personagens\n",
        "2.   **Homeworld**: Origem de nascimento dos personagens\n",
        "3.   **Species**: Que tipo raça são\n",
        "4.   **Name**: Nome dos personagens\n"
      ],
      "metadata": {
        "id": "QWCF7jTHOqQ_"
      }
    },
    {
      "cell_type": "markdown",
      "source": [
        "**OBS** Os # que vão aparecer, são comentários onde não influencia em nada no código."
      ],
      "metadata": {
        "id": "pcrkoVCDr4YB"
      }
    },
    {
      "cell_type": "markdown",
      "source": [
        "Vamos verificar neste momento quantas raças possuimos, porém faremos antes umas trativas pois como podemos observar, temos informações duplicadas.\n",
        "Desta forma utilizaremos a função **.drop_duplicates()**"
      ],
      "metadata": {
        "id": "F1rVaqF-ReNb"
      }
    },
    {
      "cell_type": "code",
      "source": [
        "#Existem duas formas para realizar este codigo para obter o mesmo resultado, este onde aponto tudo que estamos realizando\n",
        "race = df[\"species\"]\n",
        "race.drop_duplicates(inplace=True)\n",
        "race.dropna()\n",
        "race.count()"
      ],
      "metadata": {
        "colab": {
          "base_uri": "https://localhost:8080/"
        },
        "id": "SOweO0AZR1cO",
        "outputId": "1dd6004f-efcf-4f95-de2b-ebf63c525f42"
      },
      "execution_count": null,
      "outputs": [
        {
          "output_type": "execute_result",
          "data": {
            "text/plain": [
              "37"
            ]
          },
          "metadata": {},
          "execution_count": 28
        }
      ]
    },
    {
      "cell_type": "code",
      "source": [
        "#Serve para fazer a contabilização de distintos elementos em nosso axis=1\n",
        "df['species'].nunique()"
      ],
      "metadata": {
        "colab": {
          "base_uri": "https://localhost:8080/"
        },
        "id": "CgehbgkirvW6",
        "outputId": "e7c02df0-53fc-4405-bb12-eab1cc94d8e9"
      },
      "execution_count": null,
      "outputs": [
        {
          "output_type": "execute_result",
          "data": {
            "text/plain": [
              "37"
            ]
          },
          "metadata": {},
          "execution_count": 29
        }
      ]
    },
    {
      "cell_type": "markdown",
      "source": [
        "Utilizando a função **.count()**, identificamos que temos **37 espécies diferentes** em nosso dataset"
      ],
      "metadata": {
        "id": "GbQQxVGRLLaE"
      }
    },
    {
      "cell_type": "markdown",
      "source": [
        "Utilizando a função **.unique()** e indicando a coluna **species**, extrai todas as espécias apresentadas nesse **DATASET**"
      ],
      "metadata": {
        "id": "GTl0QzeAx3i-"
      }
    },
    {
      "cell_type": "code",
      "source": [
        "df['species'].unique()"
      ],
      "metadata": {
        "colab": {
          "base_uri": "https://localhost:8080/"
        },
        "id": "iEh9fRUerhLF",
        "outputId": "f518db49-093f-4b35-c96d-86151d34bb59"
      },
      "execution_count": null,
      "outputs": [
        {
          "output_type": "execute_result",
          "data": {
            "text/plain": [
              "array(['Human', 'Droid', 'Wookiee', 'Rodian', 'Hutt', \"Yoda's species\",\n",
              "       'Trandoshan', 'Mon Calamari', 'Ewok', 'Sullustan', 'Neimodian',\n",
              "       'Gungan', nan, 'Toydarian', 'Dug', 'Zabrak', \"Twi'lek\",\n",
              "       'Vulptereen', 'Xexto', 'Toong', 'Cerean', 'Nautolan', 'Tholothian',\n",
              "       'Iktotchi', 'Quermian', 'Kel Dor', 'Chagrian', 'Geonosian',\n",
              "       'Mirialan', 'Clawdite', 'Besalisk', 'Kaminoan', 'Aleena',\n",
              "       'Skakoan', 'Muun', 'Togruta', 'Kaleesh', \"Pau'an\"], dtype=object)"
            ]
          },
          "metadata": {},
          "execution_count": 30
        }
      ]
    },
    {
      "cell_type": "markdown",
      "source": [
        "No codigo abaixo utilizei o metodo **.groupby** selecionando a coluna homeworld e definindo o metodo de contagem de especies distintas por planeta, obtivemos o resultado abaixo."
      ],
      "metadata": {
        "id": "atPvch9aIN2I"
      }
    },
    {
      "cell_type": "code",
      "source": [
        "df.groupby('homeworld').agg({'species':'count'})"
      ],
      "metadata": {
        "colab": {
          "base_uri": "https://localhost:8080/",
          "height": 1000
        },
        "id": "Fjpu1RFSFTRC",
        "outputId": "24046ea3-fa42-4b29-eeef-93fc9ee4c2af"
      },
      "execution_count": null,
      "outputs": [
        {
          "output_type": "execute_result",
          "data": {
            "text/plain": [
              "                species\n",
              "homeworld              \n",
              "Alderaan              3\n",
              "Aleen Minor           1\n",
              "Bespin                1\n",
              "Bestine IV            1\n",
              "Cato Neimoidia        1\n",
              "Cerea                 1\n",
              "Champala              1\n",
              "Chandrila             1\n",
              "Concord Dawn          1\n",
              "Corellia              2\n",
              "Coruscant             3\n",
              "Dathomir              1\n",
              "Dorin                 1\n",
              "Endor                 1\n",
              "Eriadu                1\n",
              "Geonosis              1\n",
              "Glee Anselm           1\n",
              "Haruun Kal            1\n",
              "Iktotch               1\n",
              "Iridonia              1\n",
              "Kalee                 1\n",
              "Kamino                3\n",
              "Kashyyyk              2\n",
              "Malastare             1\n",
              "Mirial                2\n",
              "Mon Cala              1\n",
              "Muunilinst            1\n",
              "Naboo                 9\n",
              "Nal Hutta             1\n",
              "Ojom                  1\n",
              "Quermia               1\n",
              "Rodia                 1\n",
              "Ryloth                2\n",
              "Serenno               1\n",
              "Shili                 1\n",
              "Skako                 1\n",
              "Socorro               1\n",
              "Stewjon               1\n",
              "Sullust               1\n",
              "Tatooine             10\n",
              "Toydaria              1\n",
              "Trandosha             1\n",
              "Troiken               1\n",
              "Tund                  1\n",
              "Umbara                0\n",
              "Utapau                1\n",
              "Vulpter               1\n",
              "Zolan                 1"
            ],
            "text/html": [
              "\n",
              "  <div id=\"df-0de7315e-f87d-4fd5-b0dd-a49df8becde0\">\n",
              "    <div class=\"colab-df-container\">\n",
              "      <div>\n",
              "<style scoped>\n",
              "    .dataframe tbody tr th:only-of-type {\n",
              "        vertical-align: middle;\n",
              "    }\n",
              "\n",
              "    .dataframe tbody tr th {\n",
              "        vertical-align: top;\n",
              "    }\n",
              "\n",
              "    .dataframe thead th {\n",
              "        text-align: right;\n",
              "    }\n",
              "</style>\n",
              "<table border=\"1\" class=\"dataframe\">\n",
              "  <thead>\n",
              "    <tr style=\"text-align: right;\">\n",
              "      <th></th>\n",
              "      <th>species</th>\n",
              "    </tr>\n",
              "    <tr>\n",
              "      <th>homeworld</th>\n",
              "      <th></th>\n",
              "    </tr>\n",
              "  </thead>\n",
              "  <tbody>\n",
              "    <tr>\n",
              "      <th>Alderaan</th>\n",
              "      <td>3</td>\n",
              "    </tr>\n",
              "    <tr>\n",
              "      <th>Aleen Minor</th>\n",
              "      <td>1</td>\n",
              "    </tr>\n",
              "    <tr>\n",
              "      <th>Bespin</th>\n",
              "      <td>1</td>\n",
              "    </tr>\n",
              "    <tr>\n",
              "      <th>Bestine IV</th>\n",
              "      <td>1</td>\n",
              "    </tr>\n",
              "    <tr>\n",
              "      <th>Cato Neimoidia</th>\n",
              "      <td>1</td>\n",
              "    </tr>\n",
              "    <tr>\n",
              "      <th>Cerea</th>\n",
              "      <td>1</td>\n",
              "    </tr>\n",
              "    <tr>\n",
              "      <th>Champala</th>\n",
              "      <td>1</td>\n",
              "    </tr>\n",
              "    <tr>\n",
              "      <th>Chandrila</th>\n",
              "      <td>1</td>\n",
              "    </tr>\n",
              "    <tr>\n",
              "      <th>Concord Dawn</th>\n",
              "      <td>1</td>\n",
              "    </tr>\n",
              "    <tr>\n",
              "      <th>Corellia</th>\n",
              "      <td>2</td>\n",
              "    </tr>\n",
              "    <tr>\n",
              "      <th>Coruscant</th>\n",
              "      <td>3</td>\n",
              "    </tr>\n",
              "    <tr>\n",
              "      <th>Dathomir</th>\n",
              "      <td>1</td>\n",
              "    </tr>\n",
              "    <tr>\n",
              "      <th>Dorin</th>\n",
              "      <td>1</td>\n",
              "    </tr>\n",
              "    <tr>\n",
              "      <th>Endor</th>\n",
              "      <td>1</td>\n",
              "    </tr>\n",
              "    <tr>\n",
              "      <th>Eriadu</th>\n",
              "      <td>1</td>\n",
              "    </tr>\n",
              "    <tr>\n",
              "      <th>Geonosis</th>\n",
              "      <td>1</td>\n",
              "    </tr>\n",
              "    <tr>\n",
              "      <th>Glee Anselm</th>\n",
              "      <td>1</td>\n",
              "    </tr>\n",
              "    <tr>\n",
              "      <th>Haruun Kal</th>\n",
              "      <td>1</td>\n",
              "    </tr>\n",
              "    <tr>\n",
              "      <th>Iktotch</th>\n",
              "      <td>1</td>\n",
              "    </tr>\n",
              "    <tr>\n",
              "      <th>Iridonia</th>\n",
              "      <td>1</td>\n",
              "    </tr>\n",
              "    <tr>\n",
              "      <th>Kalee</th>\n",
              "      <td>1</td>\n",
              "    </tr>\n",
              "    <tr>\n",
              "      <th>Kamino</th>\n",
              "      <td>3</td>\n",
              "    </tr>\n",
              "    <tr>\n",
              "      <th>Kashyyyk</th>\n",
              "      <td>2</td>\n",
              "    </tr>\n",
              "    <tr>\n",
              "      <th>Malastare</th>\n",
              "      <td>1</td>\n",
              "    </tr>\n",
              "    <tr>\n",
              "      <th>Mirial</th>\n",
              "      <td>2</td>\n",
              "    </tr>\n",
              "    <tr>\n",
              "      <th>Mon Cala</th>\n",
              "      <td>1</td>\n",
              "    </tr>\n",
              "    <tr>\n",
              "      <th>Muunilinst</th>\n",
              "      <td>1</td>\n",
              "    </tr>\n",
              "    <tr>\n",
              "      <th>Naboo</th>\n",
              "      <td>9</td>\n",
              "    </tr>\n",
              "    <tr>\n",
              "      <th>Nal Hutta</th>\n",
              "      <td>1</td>\n",
              "    </tr>\n",
              "    <tr>\n",
              "      <th>Ojom</th>\n",
              "      <td>1</td>\n",
              "    </tr>\n",
              "    <tr>\n",
              "      <th>Quermia</th>\n",
              "      <td>1</td>\n",
              "    </tr>\n",
              "    <tr>\n",
              "      <th>Rodia</th>\n",
              "      <td>1</td>\n",
              "    </tr>\n",
              "    <tr>\n",
              "      <th>Ryloth</th>\n",
              "      <td>2</td>\n",
              "    </tr>\n",
              "    <tr>\n",
              "      <th>Serenno</th>\n",
              "      <td>1</td>\n",
              "    </tr>\n",
              "    <tr>\n",
              "      <th>Shili</th>\n",
              "      <td>1</td>\n",
              "    </tr>\n",
              "    <tr>\n",
              "      <th>Skako</th>\n",
              "      <td>1</td>\n",
              "    </tr>\n",
              "    <tr>\n",
              "      <th>Socorro</th>\n",
              "      <td>1</td>\n",
              "    </tr>\n",
              "    <tr>\n",
              "      <th>Stewjon</th>\n",
              "      <td>1</td>\n",
              "    </tr>\n",
              "    <tr>\n",
              "      <th>Sullust</th>\n",
              "      <td>1</td>\n",
              "    </tr>\n",
              "    <tr>\n",
              "      <th>Tatooine</th>\n",
              "      <td>10</td>\n",
              "    </tr>\n",
              "    <tr>\n",
              "      <th>Toydaria</th>\n",
              "      <td>1</td>\n",
              "    </tr>\n",
              "    <tr>\n",
              "      <th>Trandosha</th>\n",
              "      <td>1</td>\n",
              "    </tr>\n",
              "    <tr>\n",
              "      <th>Troiken</th>\n",
              "      <td>1</td>\n",
              "    </tr>\n",
              "    <tr>\n",
              "      <th>Tund</th>\n",
              "      <td>1</td>\n",
              "    </tr>\n",
              "    <tr>\n",
              "      <th>Umbara</th>\n",
              "      <td>0</td>\n",
              "    </tr>\n",
              "    <tr>\n",
              "      <th>Utapau</th>\n",
              "      <td>1</td>\n",
              "    </tr>\n",
              "    <tr>\n",
              "      <th>Vulpter</th>\n",
              "      <td>1</td>\n",
              "    </tr>\n",
              "    <tr>\n",
              "      <th>Zolan</th>\n",
              "      <td>1</td>\n",
              "    </tr>\n",
              "  </tbody>\n",
              "</table>\n",
              "</div>\n",
              "      <button class=\"colab-df-convert\" onclick=\"convertToInteractive('df-0de7315e-f87d-4fd5-b0dd-a49df8becde0')\"\n",
              "              title=\"Convert this dataframe to an interactive table.\"\n",
              "              style=\"display:none;\">\n",
              "        \n",
              "  <svg xmlns=\"http://www.w3.org/2000/svg\" height=\"24px\"viewBox=\"0 0 24 24\"\n",
              "       width=\"24px\">\n",
              "    <path d=\"M0 0h24v24H0V0z\" fill=\"none\"/>\n",
              "    <path d=\"M18.56 5.44l.94 2.06.94-2.06 2.06-.94-2.06-.94-.94-2.06-.94 2.06-2.06.94zm-11 1L8.5 8.5l.94-2.06 2.06-.94-2.06-.94L8.5 2.5l-.94 2.06-2.06.94zm10 10l.94 2.06.94-2.06 2.06-.94-2.06-.94-.94-2.06-.94 2.06-2.06.94z\"/><path d=\"M17.41 7.96l-1.37-1.37c-.4-.4-.92-.59-1.43-.59-.52 0-1.04.2-1.43.59L10.3 9.45l-7.72 7.72c-.78.78-.78 2.05 0 2.83L4 21.41c.39.39.9.59 1.41.59.51 0 1.02-.2 1.41-.59l7.78-7.78 2.81-2.81c.8-.78.8-2.07 0-2.86zM5.41 20L4 18.59l7.72-7.72 1.47 1.35L5.41 20z\"/>\n",
              "  </svg>\n",
              "      </button>\n",
              "      \n",
              "  <style>\n",
              "    .colab-df-container {\n",
              "      display:flex;\n",
              "      flex-wrap:wrap;\n",
              "      gap: 12px;\n",
              "    }\n",
              "\n",
              "    .colab-df-convert {\n",
              "      background-color: #E8F0FE;\n",
              "      border: none;\n",
              "      border-radius: 50%;\n",
              "      cursor: pointer;\n",
              "      display: none;\n",
              "      fill: #1967D2;\n",
              "      height: 32px;\n",
              "      padding: 0 0 0 0;\n",
              "      width: 32px;\n",
              "    }\n",
              "\n",
              "    .colab-df-convert:hover {\n",
              "      background-color: #E2EBFA;\n",
              "      box-shadow: 0px 1px 2px rgba(60, 64, 67, 0.3), 0px 1px 3px 1px rgba(60, 64, 67, 0.15);\n",
              "      fill: #174EA6;\n",
              "    }\n",
              "\n",
              "    [theme=dark] .colab-df-convert {\n",
              "      background-color: #3B4455;\n",
              "      fill: #D2E3FC;\n",
              "    }\n",
              "\n",
              "    [theme=dark] .colab-df-convert:hover {\n",
              "      background-color: #434B5C;\n",
              "      box-shadow: 0px 1px 3px 1px rgba(0, 0, 0, 0.15);\n",
              "      filter: drop-shadow(0px 1px 2px rgba(0, 0, 0, 0.3));\n",
              "      fill: #FFFFFF;\n",
              "    }\n",
              "  </style>\n",
              "\n",
              "      <script>\n",
              "        const buttonEl =\n",
              "          document.querySelector('#df-0de7315e-f87d-4fd5-b0dd-a49df8becde0 button.colab-df-convert');\n",
              "        buttonEl.style.display =\n",
              "          google.colab.kernel.accessAllowed ? 'block' : 'none';\n",
              "\n",
              "        async function convertToInteractive(key) {\n",
              "          const element = document.querySelector('#df-0de7315e-f87d-4fd5-b0dd-a49df8becde0');\n",
              "          const dataTable =\n",
              "            await google.colab.kernel.invokeFunction('convertToInteractive',\n",
              "                                                     [key], {});\n",
              "          if (!dataTable) return;\n",
              "\n",
              "          const docLinkHtml = 'Like what you see? Visit the ' +\n",
              "            '<a target=\"_blank\" href=https://colab.research.google.com/notebooks/data_table.ipynb>data table notebook</a>'\n",
              "            + ' to learn more about interactive tables.';\n",
              "          element.innerHTML = '';\n",
              "          dataTable['output_type'] = 'display_data';\n",
              "          await google.colab.output.renderOutput(dataTable, element);\n",
              "          const docLink = document.createElement('div');\n",
              "          docLink.innerHTML = docLinkHtml;\n",
              "          element.appendChild(docLink);\n",
              "        }\n",
              "      </script>\n",
              "    </div>\n",
              "  </div>\n",
              "  "
            ]
          },
          "metadata": {},
          "execution_count": 31
        }
      ]
    },
    {
      "cell_type": "markdown",
      "source": [
        "--------------------------------------------------------------------------------"
      ],
      "metadata": {
        "id": "Y-qUj0Hm6Miz"
      }
    },
    {
      "cell_type": "markdown",
      "source": [
        "Neste momento estarei selecionando apenas a coluna **homeworld** para que possamos verificar quantos mundos estão presentes nesse dataset, onde encontramos 48 **Mundos** diferentes"
      ],
      "metadata": {
        "id": "OLrJF2nQUD01"
      }
    },
    {
      "cell_type": "code",
      "source": [
        "#Existem duas formas para realizar este codigo para obter o mesmo resultado, este onde aponto tudo que estamos realizando\n",
        "world = df['homeworld']\n",
        "world.drop_duplicates(inplace=True)\n",
        "world.count()"
      ],
      "metadata": {
        "colab": {
          "base_uri": "https://localhost:8080/"
        },
        "id": "n9RhGsjjq8eL",
        "outputId": "0f32499d-ee88-4c52-ceae-f0c9a0b0afee"
      },
      "execution_count": null,
      "outputs": [
        {
          "output_type": "execute_result",
          "data": {
            "text/plain": [
              "48"
            ]
          },
          "metadata": {},
          "execution_count": 32
        }
      ]
    },
    {
      "cell_type": "code",
      "source": [
        "#Serve para fazer a contabilização de distintos elementos em nosso axis=1\n",
        "df['homeworld'].nunique()"
      ],
      "metadata": {
        "colab": {
          "base_uri": "https://localhost:8080/"
        },
        "id": "2Q4MJYF8qdDQ",
        "outputId": "8772c06f-7b5a-4d3c-ca77-fb4f2151fca6"
      },
      "execution_count": null,
      "outputs": [
        {
          "output_type": "execute_result",
          "data": {
            "text/plain": [
              "48"
            ]
          },
          "metadata": {},
          "execution_count": 33
        }
      ]
    },
    {
      "cell_type": "markdown",
      "source": [
        "Com esta quantidade de especies, podermos observar logo abaixo que o top 5 de mundos presentes nesse dataset, trata-se de: **Naboo, Tatooine, Alderaan, Kamino e Coruscant**"
      ],
      "metadata": {
        "id": "j28UpuzM2lEb"
      }
    },
    {
      "cell_type": "code",
      "source": [
        "df[\"homeworld\"].value_counts(normalize=True).round(3).head()"
      ],
      "metadata": {
        "colab": {
          "base_uri": "https://localhost:8080/"
        },
        "id": "dZlT-hPATnP1",
        "outputId": "d24247e0-efc3-4bef-f8e9-64064e9eb464"
      },
      "execution_count": null,
      "outputs": [
        {
          "output_type": "execute_result",
          "data": {
            "text/plain": [
              "Naboo        0.143\n",
              "Tatooine     0.130\n",
              "Alderaan     0.039\n",
              "Kamino       0.039\n",
              "Coruscant    0.039\n",
              "Name: homeworld, dtype: float64"
            ]
          },
          "metadata": {},
          "execution_count": 34
        }
      ]
    },
    {
      "cell_type": "markdown",
      "source": [
        "Logo abaixo utilizei a função .loc para criação de um novo **DATAFRAME**, intitulado de DF5 em referencia ao nosso **TOP5** e logo em seguida utilizei a função **.head()** afim de verificar se a criação ocorreu de forma correta"
      ],
      "metadata": {
        "id": "7FibiPnb3qv5"
      }
    },
    {
      "cell_type": "code",
      "source": [
        "df5 = df.loc[(df['homeworld']=='Naboo') | (df['homeworld']=='Tatooine') | (df['homeworld']=='Alderaan') | (df['homeworld']=='Kamino')\n",
        "                 | (df['homeworld']=='Coruscant')]"
      ],
      "metadata": {
        "id": "RptAiUv8eBwx"
      },
      "execution_count": null,
      "outputs": []
    },
    {
      "cell_type": "code",
      "source": [
        "df5.head()"
      ],
      "metadata": {
        "colab": {
          "base_uri": "https://localhost:8080/",
          "height": 206
        },
        "id": "aF9vD77AhRCp",
        "outputId": "2603d11d-a9cc-43b0-f354-335d98c4b1c3"
      },
      "execution_count": null,
      "outputs": [
        {
          "output_type": "execute_result",
          "data": {
            "text/plain": [
              "             name  height mass hair_color   skin_color eye_color birth_year  \\\n",
              "0  Luke Skywalker   172.0   77      blond         fair      blue      19BBY   \n",
              "1           C-3PO   167.0   75        NaN         gold    yellow     112BBY   \n",
              "2           R2-D2    96.0   32        NaN  white, blue       red      33BBY   \n",
              "3     Darth Vader   202.0  136       none        white    yellow    41.9BBY   \n",
              "4     Leia Organa   150.0   49      brown        light     brown      19BBY   \n",
              "\n",
              "   gender homeworld species  \n",
              "0    male  Tatooine   Human  \n",
              "1     NaN  Tatooine   Droid  \n",
              "2     NaN     Naboo   Droid  \n",
              "3    male  Tatooine   Human  \n",
              "4  female  Alderaan   Human  "
            ],
            "text/html": [
              "\n",
              "  <div id=\"df-49d1e135-a874-4c36-9ec4-8310f1817af5\">\n",
              "    <div class=\"colab-df-container\">\n",
              "      <div>\n",
              "<style scoped>\n",
              "    .dataframe tbody tr th:only-of-type {\n",
              "        vertical-align: middle;\n",
              "    }\n",
              "\n",
              "    .dataframe tbody tr th {\n",
              "        vertical-align: top;\n",
              "    }\n",
              "\n",
              "    .dataframe thead th {\n",
              "        text-align: right;\n",
              "    }\n",
              "</style>\n",
              "<table border=\"1\" class=\"dataframe\">\n",
              "  <thead>\n",
              "    <tr style=\"text-align: right;\">\n",
              "      <th></th>\n",
              "      <th>name</th>\n",
              "      <th>height</th>\n",
              "      <th>mass</th>\n",
              "      <th>hair_color</th>\n",
              "      <th>skin_color</th>\n",
              "      <th>eye_color</th>\n",
              "      <th>birth_year</th>\n",
              "      <th>gender</th>\n",
              "      <th>homeworld</th>\n",
              "      <th>species</th>\n",
              "    </tr>\n",
              "  </thead>\n",
              "  <tbody>\n",
              "    <tr>\n",
              "      <th>0</th>\n",
              "      <td>Luke Skywalker</td>\n",
              "      <td>172.0</td>\n",
              "      <td>77</td>\n",
              "      <td>blond</td>\n",
              "      <td>fair</td>\n",
              "      <td>blue</td>\n",
              "      <td>19BBY</td>\n",
              "      <td>male</td>\n",
              "      <td>Tatooine</td>\n",
              "      <td>Human</td>\n",
              "    </tr>\n",
              "    <tr>\n",
              "      <th>1</th>\n",
              "      <td>C-3PO</td>\n",
              "      <td>167.0</td>\n",
              "      <td>75</td>\n",
              "      <td>NaN</td>\n",
              "      <td>gold</td>\n",
              "      <td>yellow</td>\n",
              "      <td>112BBY</td>\n",
              "      <td>NaN</td>\n",
              "      <td>Tatooine</td>\n",
              "      <td>Droid</td>\n",
              "    </tr>\n",
              "    <tr>\n",
              "      <th>2</th>\n",
              "      <td>R2-D2</td>\n",
              "      <td>96.0</td>\n",
              "      <td>32</td>\n",
              "      <td>NaN</td>\n",
              "      <td>white, blue</td>\n",
              "      <td>red</td>\n",
              "      <td>33BBY</td>\n",
              "      <td>NaN</td>\n",
              "      <td>Naboo</td>\n",
              "      <td>Droid</td>\n",
              "    </tr>\n",
              "    <tr>\n",
              "      <th>3</th>\n",
              "      <td>Darth Vader</td>\n",
              "      <td>202.0</td>\n",
              "      <td>136</td>\n",
              "      <td>none</td>\n",
              "      <td>white</td>\n",
              "      <td>yellow</td>\n",
              "      <td>41.9BBY</td>\n",
              "      <td>male</td>\n",
              "      <td>Tatooine</td>\n",
              "      <td>Human</td>\n",
              "    </tr>\n",
              "    <tr>\n",
              "      <th>4</th>\n",
              "      <td>Leia Organa</td>\n",
              "      <td>150.0</td>\n",
              "      <td>49</td>\n",
              "      <td>brown</td>\n",
              "      <td>light</td>\n",
              "      <td>brown</td>\n",
              "      <td>19BBY</td>\n",
              "      <td>female</td>\n",
              "      <td>Alderaan</td>\n",
              "      <td>Human</td>\n",
              "    </tr>\n",
              "  </tbody>\n",
              "</table>\n",
              "</div>\n",
              "      <button class=\"colab-df-convert\" onclick=\"convertToInteractive('df-49d1e135-a874-4c36-9ec4-8310f1817af5')\"\n",
              "              title=\"Convert this dataframe to an interactive table.\"\n",
              "              style=\"display:none;\">\n",
              "        \n",
              "  <svg xmlns=\"http://www.w3.org/2000/svg\" height=\"24px\"viewBox=\"0 0 24 24\"\n",
              "       width=\"24px\">\n",
              "    <path d=\"M0 0h24v24H0V0z\" fill=\"none\"/>\n",
              "    <path d=\"M18.56 5.44l.94 2.06.94-2.06 2.06-.94-2.06-.94-.94-2.06-.94 2.06-2.06.94zm-11 1L8.5 8.5l.94-2.06 2.06-.94-2.06-.94L8.5 2.5l-.94 2.06-2.06.94zm10 10l.94 2.06.94-2.06 2.06-.94-2.06-.94-.94-2.06-.94 2.06-2.06.94z\"/><path d=\"M17.41 7.96l-1.37-1.37c-.4-.4-.92-.59-1.43-.59-.52 0-1.04.2-1.43.59L10.3 9.45l-7.72 7.72c-.78.78-.78 2.05 0 2.83L4 21.41c.39.39.9.59 1.41.59.51 0 1.02-.2 1.41-.59l7.78-7.78 2.81-2.81c.8-.78.8-2.07 0-2.86zM5.41 20L4 18.59l7.72-7.72 1.47 1.35L5.41 20z\"/>\n",
              "  </svg>\n",
              "      </button>\n",
              "      \n",
              "  <style>\n",
              "    .colab-df-container {\n",
              "      display:flex;\n",
              "      flex-wrap:wrap;\n",
              "      gap: 12px;\n",
              "    }\n",
              "\n",
              "    .colab-df-convert {\n",
              "      background-color: #E8F0FE;\n",
              "      border: none;\n",
              "      border-radius: 50%;\n",
              "      cursor: pointer;\n",
              "      display: none;\n",
              "      fill: #1967D2;\n",
              "      height: 32px;\n",
              "      padding: 0 0 0 0;\n",
              "      width: 32px;\n",
              "    }\n",
              "\n",
              "    .colab-df-convert:hover {\n",
              "      background-color: #E2EBFA;\n",
              "      box-shadow: 0px 1px 2px rgba(60, 64, 67, 0.3), 0px 1px 3px 1px rgba(60, 64, 67, 0.15);\n",
              "      fill: #174EA6;\n",
              "    }\n",
              "\n",
              "    [theme=dark] .colab-df-convert {\n",
              "      background-color: #3B4455;\n",
              "      fill: #D2E3FC;\n",
              "    }\n",
              "\n",
              "    [theme=dark] .colab-df-convert:hover {\n",
              "      background-color: #434B5C;\n",
              "      box-shadow: 0px 1px 3px 1px rgba(0, 0, 0, 0.15);\n",
              "      filter: drop-shadow(0px 1px 2px rgba(0, 0, 0, 0.3));\n",
              "      fill: #FFFFFF;\n",
              "    }\n",
              "  </style>\n",
              "\n",
              "      <script>\n",
              "        const buttonEl =\n",
              "          document.querySelector('#df-49d1e135-a874-4c36-9ec4-8310f1817af5 button.colab-df-convert');\n",
              "        buttonEl.style.display =\n",
              "          google.colab.kernel.accessAllowed ? 'block' : 'none';\n",
              "\n",
              "        async function convertToInteractive(key) {\n",
              "          const element = document.querySelector('#df-49d1e135-a874-4c36-9ec4-8310f1817af5');\n",
              "          const dataTable =\n",
              "            await google.colab.kernel.invokeFunction('convertToInteractive',\n",
              "                                                     [key], {});\n",
              "          if (!dataTable) return;\n",
              "\n",
              "          const docLinkHtml = 'Like what you see? Visit the ' +\n",
              "            '<a target=\"_blank\" href=https://colab.research.google.com/notebooks/data_table.ipynb>data table notebook</a>'\n",
              "            + ' to learn more about interactive tables.';\n",
              "          element.innerHTML = '';\n",
              "          dataTable['output_type'] = 'display_data';\n",
              "          await google.colab.output.renderOutput(dataTable, element);\n",
              "          const docLink = document.createElement('div');\n",
              "          docLink.innerHTML = docLinkHtml;\n",
              "          element.appendChild(docLink);\n",
              "        }\n",
              "      </script>\n",
              "    </div>\n",
              "  </div>\n",
              "  "
            ]
          },
          "metadata": {},
          "execution_count": 36
        }
      ]
    },
    {
      "cell_type": "code",
      "source": [
        "sns.displot(data=df5, x='homeworld', kind='hist', hue='homeworld').set(title='Planetas mais povoados')\n",
        "plt.xlabel('Mundos')\n",
        "plt.ylabel('Contagem')\n",
        "plt.show()"
      ],
      "metadata": {
        "colab": {
          "base_uri": "https://localhost:8080/",
          "height": 385
        },
        "id": "PUdIgYYLUmcB",
        "outputId": "63a3b282-e27d-48cb-e53d-2fbc2822988a"
      },
      "execution_count": null,
      "outputs": [
        {
          "output_type": "display_data",
          "data": {
            "text/plain": [
              "<Figure size 446.5x360 with 1 Axes>"
            ],
            "image/png": "[encoded data removed]"
          },
          "metadata": {
            "needs_background": "light"
          }
        }
      ]
    },
    {
      "cell_type": "markdown",
      "source": [
        "Em nossa primeira análise deste dataset, notamos que Tatooine e Naboo são os mundos mais povoado de espécies, são elas:\n",
        "\n",
        "1.  **Tatooine**: Temos a presença de *Human* e *Droid*\n",
        "\n",
        "2.   **Naboo**: Temos a presença de *Droid*, Human e provavelmente nativos *Gungan*\n",
        "\n",
        "Enquanto os outros mundos tem uma frequencia de espécies um pouco menor ou apenas uma única espécie detectada, como é caso de **Alderaan**, creio que devido ao **estado natural** de cada mundo e as adaptações que as espécies possuem para sobreviver.\n",
        "Logo vemos que **Kamino** e **Coruscant** ja possuem espécies mais predominantes."
      ],
      "metadata": {
        "id": "9A8lLGxC4AYL"
      }
    },
    {
      "cell_type": "markdown",
      "source": [
        "E se a gente puder mensurar nessa população qual é parte marjoritária entre Homem/Macho ou Mulher/Fêmea, fiz esse tipo de colocação por conta de estarmos tratando como espécies humanoides e não humanoides. "
      ],
      "metadata": {
        "id": "5OINZOOc1wUV"
      }
    },
    {
      "cell_type": "code",
      "source": [
        "sns.displot(data=df5, y='gender', kind='hist', hue='gender').set(title='Quantidade Homem & Mulher')\n",
        "plt.xlabel('Contagem')\n",
        "plt.ylabel('Gênero')\n",
        "plt.show()"
      ],
      "metadata": {
        "colab": {
          "base_uri": "https://localhost:8080/",
          "height": 385
        },
        "id": "KeYGljmyzJR9",
        "outputId": "fda04cad-c3ce-48a3-ecab-d55d46d04ce9"
      },
      "execution_count": null,
      "outputs": [
        {
          "output_type": "display_data",
          "data": {
            "text/plain": [
              "<Figure size 430.5x360 with 1 Axes>"
            ],
            "image/png": "[encoded data removed]"
          },
          "metadata": {
            "needs_background": "light"
          }
        }
      ]
    },
    {
      "cell_type": "markdown",
      "source": [
        "Incrível, não é mesmo? Conseguimos visualizar de forma simples o macho está predominante em nosso TOP5, mas espera e se fizessemos por subcategorias, identificando por cada espécie?"
      ],
      "metadata": {
        "id": "Q038ZfuB2_MM"
      }
    },
    {
      "cell_type": "code",
      "source": [
        "sns.displot(data=df5, y='gender', kind='hist', hue='species', legend=True).set(title='Quantidade Homem & Mulher')\n",
        "plt.xlabel('Contagem')\n",
        "plt.ylabel('Gênero')\n",
        "plt.show()"
      ],
      "metadata": {
        "colab": {
          "base_uri": "https://localhost:8080/",
          "height": 385
        },
        "id": "V2fX52I43d2c",
        "outputId": "d5e53efd-231d-4b73-afd0-e7ac76e3e442"
      },
      "execution_count": null,
      "outputs": [
        {
          "output_type": "display_data",
          "data": {
            "text/plain": [
              "<Figure size 448.875x360 with 1 Axes>"
            ],
            "image/png": "[encoded data removed]"
          },
          "metadata": {
            "needs_background": "light"
          }
        }
      ]
    },
    {
      "cell_type": "markdown",
      "source": [
        "Através do gráfico, podemos identificar que raça humana é predominante entre homens e mulheres.\n",
        "Temos bastante presença do macho **Gungan**."
      ],
      "metadata": {
        "id": "tV-S49Vf5jpE"
      }
    },
    {
      "cell_type": "markdown",
      "source": [
        "________________________________________________________________________________\n",
        "Após essas análises, quis me aprofundar e saber quantidade total por espécie entre os mundos.\n",
        "\n",
        "As técnicas utilizadas aqui foram o **.groupby()** onde tudo foi agrupado pela coluna especificada e o **.loc** onde eu fiz referencia a qual coluna estava buscando e qual mundo eu iria trazer as informações de espécies e trazendo a quantidade cada."
      ],
      "metadata": {
        "id": "u0WlOLsJ7iDq"
      }
    },
    {
      "cell_type": "code",
      "source": [
        "df.loc[df['homeworld'] == 'Tatooine']['species'].value_counts()"
      ],
      "metadata": {
        "colab": {
          "base_uri": "https://localhost:8080/"
        },
        "id": "dhxKGrsVKo_X",
        "outputId": "3a7940a7-c656-4f95-c9c5-98ee15bc2f19"
      },
      "execution_count": null,
      "outputs": [
        {
          "output_type": "execute_result",
          "data": {
            "text/plain": [
              "Human    8\n",
              "Droid    2\n",
              "Name: species, dtype: int64"
            ]
          },
          "metadata": {},
          "execution_count": 40
        }
      ]
    },
    {
      "cell_type": "code",
      "source": [
        "df.loc[df['homeworld'] == 'Naboo']['species'].value_counts()"
      ],
      "metadata": {
        "colab": {
          "base_uri": "https://localhost:8080/"
        },
        "id": "SA0TqprZLT7j",
        "outputId": "581f797a-50e7-4313-9cbb-e6a060b85139"
      },
      "execution_count": null,
      "outputs": [
        {
          "output_type": "execute_result",
          "data": {
            "text/plain": [
              "Human     5\n",
              "Gungan    3\n",
              "Droid     1\n",
              "Name: species, dtype: int64"
            ]
          },
          "metadata": {},
          "execution_count": 41
        }
      ]
    },
    {
      "cell_type": "code",
      "source": [
        "df.loc[df['homeworld'] == 'Alderaan']['species'].value_counts()"
      ],
      "metadata": {
        "colab": {
          "base_uri": "https://localhost:8080/"
        },
        "id": "6EVmCKxdLbSv",
        "outputId": "39d8eeb9-ee3b-4637-b131-98955fd5c904"
      },
      "execution_count": null,
      "outputs": [
        {
          "output_type": "execute_result",
          "data": {
            "text/plain": [
              "Human    3\n",
              "Name: species, dtype: int64"
            ]
          },
          "metadata": {},
          "execution_count": 42
        }
      ]
    },
    {
      "cell_type": "code",
      "source": [
        "df.loc[df['homeworld'] == 'Kamino']['species'].value_counts()"
      ],
      "metadata": {
        "colab": {
          "base_uri": "https://localhost:8080/"
        },
        "id": "3t5tYvdJLhjG",
        "outputId": "8d1a0b12-e42d-4e7f-9e3f-bf266a524e61"
      },
      "execution_count": null,
      "outputs": [
        {
          "output_type": "execute_result",
          "data": {
            "text/plain": [
              "Kaminoan    2\n",
              "Human       1\n",
              "Name: species, dtype: int64"
            ]
          },
          "metadata": {},
          "execution_count": 43
        }
      ]
    },
    {
      "cell_type": "code",
      "source": [
        "df.loc[df['homeworld'] == 'Coruscant']['species'].value_counts()"
      ],
      "metadata": {
        "colab": {
          "base_uri": "https://localhost:8080/"
        },
        "id": "_gEyoQjrLkbJ",
        "outputId": "056c361b-d899-4c90-9129-741f5e797eed"
      },
      "execution_count": null,
      "outputs": [
        {
          "output_type": "execute_result",
          "data": {
            "text/plain": [
              "Human         2\n",
              "Tholothian    1\n",
              "Name: species, dtype: int64"
            ]
          },
          "metadata": {},
          "execution_count": 44
        }
      ]
    },
    {
      "cell_type": "code",
      "source": [
        "df.loc[df['homeworld'] == 'Tatooine']['species'].value_counts()"
      ],
      "metadata": {
        "colab": {
          "base_uri": "https://localhost:8080/"
        },
        "id": "jDVv7c589BfJ",
        "outputId": "56caf19b-2c7f-44d0-fd6f-2fbf825a5d24"
      },
      "execution_count": null,
      "outputs": [
        {
          "output_type": "execute_result",
          "data": {
            "text/plain": [
              "Human    8\n",
              "Droid    2\n",
              "Name: species, dtype: int64"
            ]
          },
          "metadata": {},
          "execution_count": 45
        }
      ]
    },
    {
      "cell_type": "code",
      "source": [
        "# Está foi outra tentativa que encontrei para para trazer referente a todos os mundos\n",
        "df.groupby(['homeworld','species'])['name'].count()"
      ],
      "metadata": {
        "id": "OHYKRmJ59dQP",
        "colab": {
          "base_uri": "https://localhost:8080/"
        },
        "outputId": "dbfddef3-82ac-431f-c0d3-d86d4749dac0"
      },
      "execution_count": null,
      "outputs": [
        {
          "output_type": "execute_result",
          "data": {
            "text/plain": [
              "homeworld       species     \n",
              "Alderaan        Human           3\n",
              "Aleen Minor     Aleena          1\n",
              "Bespin          Human           1\n",
              "Bestine IV      Human           1\n",
              "Cato Neimoidia  Neimodian       1\n",
              "Cerea           Cerean          1\n",
              "Champala        Chagrian        1\n",
              "Chandrila       Human           1\n",
              "Concord Dawn    Human           1\n",
              "Corellia        Human           2\n",
              "Coruscant       Human           2\n",
              "                Tholothian      1\n",
              "Dathomir        Zabrak          1\n",
              "Dorin           Kel Dor         1\n",
              "Endor           Ewok            1\n",
              "Eriadu          Human           1\n",
              "Geonosis        Geonosian       1\n",
              "Glee Anselm     Nautolan        1\n",
              "Haruun Kal      Human           1\n",
              "Iktotch         Iktotchi        1\n",
              "Iridonia        Zabrak          1\n",
              "Kalee           Kaleesh         1\n",
              "Kamino          Human           1\n",
              "                Kaminoan        2\n",
              "Kashyyyk        Wookiee         2\n",
              "Malastare       Dug             1\n",
              "Mirial          Mirialan        2\n",
              "Mon Cala        Mon Calamari    1\n",
              "Muunilinst      Muun            1\n",
              "Naboo           Droid           1\n",
              "                Gungan          3\n",
              "                Human           5\n",
              "Nal Hutta       Hutt            1\n",
              "Ojom            Besalisk        1\n",
              "Quermia         Quermian        1\n",
              "Rodia           Rodian          1\n",
              "Ryloth          Twi'lek         2\n",
              "Serenno         Human           1\n",
              "Shili           Togruta         1\n",
              "Skako           Skakoan         1\n",
              "Socorro         Human           1\n",
              "Stewjon         Human           1\n",
              "Sullust         Sullustan       1\n",
              "Tatooine        Droid           2\n",
              "                Human           8\n",
              "Toydaria        Toydarian       1\n",
              "Trandosha       Trandoshan      1\n",
              "Troiken         Xexto           1\n",
              "Tund            Toong           1\n",
              "Utapau          Pau'an          1\n",
              "Vulpter         Vulptereen      1\n",
              "Zolan           Clawdite        1\n",
              "Name: name, dtype: int64"
            ]
          },
          "metadata": {},
          "execution_count": 46
        }
      ]
    },
    {
      "cell_type": "markdown",
      "source": [
        "Nossas técnicas utilizadas aqui foram o **groupby** onde tudo foi agrupado pela coluna especificada e o **.loc** onde eu fiz referencia a qual coluna estava buscando e qual mundo eu iria trazer as informações de espécies e trazendo a quantidade cada."
      ],
      "metadata": {
        "id": "2AEhQbW8w8FA"
      }
    },
    {
      "cell_type": "markdown",
      "source": [
        "--------------------------------------------------------------------------------"
      ],
      "metadata": {
        "id": "zlxni4yo5-wM"
      }
    },
    {
      "cell_type": "markdown",
      "source": [
        " **PART II**"
      ],
      "metadata": {
        "id": "pn84DfYdOJOx"
      }
    },
    {
      "cell_type": "markdown",
      "source": [
        "--------------------------------------------------------------------------------\n"
      ],
      "metadata": {
        "id": "ork6evyEOHbZ"
      }
    },
    {
      "cell_type": "markdown",
      "source": [
        "Nesta parte da nossa análise, iremos ter uma pequena ideia de como é o mundo do nosso **TOP5**, desta forma poderemos fazer algumas comparações e possivelmente compreender o motivo *real*, para isso utilizaremos outra parte deste dataset que foi nomeado como **\"planets\"**."
      ],
      "metadata": {
        "id": "JtZ1io944wkZ"
      }
    },
    {
      "cell_type": "code",
      "source": [
        "# Vou nomear esse DataFrame como DFP como menção à planetas, em seguida vamos entender o que faz parte desse DF\n",
        "\n",
        "dfp = pd.read_csv('/content/planets.csv', sep=',')"
      ],
      "metadata": {
        "id": "sE7CckFd61RP"
      },
      "execution_count": null,
      "outputs": []
    },
    {
      "cell_type": "code",
      "source": [
        "dfp.head()"
      ],
      "metadata": {
        "colab": {
          "base_uri": "https://localhost:8080/",
          "height": 206
        },
        "id": "fff6JA_i7TZ4",
        "outputId": "8913e760-1e13-4405-c036-9a3816a5b53a"
      },
      "execution_count": null,
      "outputs": [
        {
          "output_type": "execute_result",
          "data": {
            "text/plain": [
              "       name  rotation_period  orbital_period  diameter              climate  \\\n",
              "0  Alderaan             24.0           364.0   12500.0            temperate   \n",
              "1  Yavin IV             24.0          4818.0   10200.0  temperate, tropical   \n",
              "2      Hoth             23.0           549.0    7200.0               frozen   \n",
              "3   Dagobah             23.0           341.0    8900.0                murky   \n",
              "4    Bespin             12.0          5110.0  118000.0            temperate   \n",
              "\n",
              "                                  gravity                             terrain  \\\n",
              "0                              1 standard               grasslands, mountains   \n",
              "1                              1 standard                 jungle, rainforests   \n",
              "2                            1.1 standard  tundra, ice caves, mountain ranges   \n",
              "3                                     NaN                      swamp, jungles   \n",
              "4  1.5 (surface), 1 standard (Cloud City)                           gas giant   \n",
              "\n",
              "   surface_water    population  \n",
              "0           40.0  2.000000e+09  \n",
              "1            8.0  1.000000e+03  \n",
              "2          100.0           NaN  \n",
              "3            8.0           NaN  \n",
              "4            0.0  6.000000e+06  "
            ],
            "text/html": [
              "\n",
              "  <div id=\"df-983a7725-1fc7-478f-aeac-6ca6c0258fb5\">\n",
              "    <div class=\"colab-df-container\">\n",
              "      <div>\n",
              "<style scoped>\n",
              "    .dataframe tbody tr th:only-of-type {\n",
              "        vertical-align: middle;\n",
              "    }\n",
              "\n",
              "    .dataframe tbody tr th {\n",
              "        vertical-align: top;\n",
              "    }\n",
              "\n",
              "    .dataframe thead th {\n",
              "        text-align: right;\n",
              "    }\n",
              "</style>\n",
              "<table border=\"1\" class=\"dataframe\">\n",
              "  <thead>\n",
              "    <tr style=\"text-align: right;\">\n",
              "      <th></th>\n",
              "      <th>name</th>\n",
              "      <th>rotation_period</th>\n",
              "      <th>orbital_period</th>\n",
              "      <th>diameter</th>\n",
              "      <th>climate</th>\n",
              "      <th>gravity</th>\n",
              "      <th>terrain</th>\n",
              "      <th>surface_water</th>\n",
              "      <th>population</th>\n",
              "    </tr>\n",
              "  </thead>\n",
              "  <tbody>\n",
              "    <tr>\n",
              "      <th>0</th>\n",
              "      <td>Alderaan</td>\n",
              "      <td>24.0</td>\n",
              "      <td>364.0</td>\n",
              "      <td>12500.0</td>\n",
              "      <td>temperate</td>\n",
              "      <td>1 standard</td>\n",
              "      <td>grasslands, mountains</td>\n",
              "      <td>40.0</td>\n",
              "      <td>2.000000e+09</td>\n",
              "    </tr>\n",
              "    <tr>\n",
              "      <th>1</th>\n",
              "      <td>Yavin IV</td>\n",
              "      <td>24.0</td>\n",
              "      <td>4818.0</td>\n",
              "      <td>10200.0</td>\n",
              "      <td>temperate, tropical</td>\n",
              "      <td>1 standard</td>\n",
              "      <td>jungle, rainforests</td>\n",
              "      <td>8.0</td>\n",
              "      <td>1.000000e+03</td>\n",
              "    </tr>\n",
              "    <tr>\n",
              "      <th>2</th>\n",
              "      <td>Hoth</td>\n",
              "      <td>23.0</td>\n",
              "      <td>549.0</td>\n",
              "      <td>7200.0</td>\n",
              "      <td>frozen</td>\n",
              "      <td>1.1 standard</td>\n",
              "      <td>tundra, ice caves, mountain ranges</td>\n",
              "      <td>100.0</td>\n",
              "      <td>NaN</td>\n",
              "    </tr>\n",
              "    <tr>\n",
              "      <th>3</th>\n",
              "      <td>Dagobah</td>\n",
              "      <td>23.0</td>\n",
              "      <td>341.0</td>\n",
              "      <td>8900.0</td>\n",
              "      <td>murky</td>\n",
              "      <td>NaN</td>\n",
              "      <td>swamp, jungles</td>\n",
              "      <td>8.0</td>\n",
              "      <td>NaN</td>\n",
              "    </tr>\n",
              "    <tr>\n",
              "      <th>4</th>\n",
              "      <td>Bespin</td>\n",
              "      <td>12.0</td>\n",
              "      <td>5110.0</td>\n",
              "      <td>118000.0</td>\n",
              "      <td>temperate</td>\n",
              "      <td>1.5 (surface), 1 standard (Cloud City)</td>\n",
              "      <td>gas giant</td>\n",
              "      <td>0.0</td>\n",
              "      <td>6.000000e+06</td>\n",
              "    </tr>\n",
              "  </tbody>\n",
              "</table>\n",
              "</div>\n",
              "      <button class=\"colab-df-convert\" onclick=\"convertToInteractive('df-983a7725-1fc7-478f-aeac-6ca6c0258fb5')\"\n",
              "              title=\"Convert this dataframe to an interactive table.\"\n",
              "              style=\"display:none;\">\n",
              "        \n",
              "  <svg xmlns=\"http://www.w3.org/2000/svg\" height=\"24px\"viewBox=\"0 0 24 24\"\n",
              "       width=\"24px\">\n",
              "    <path d=\"M0 0h24v24H0V0z\" fill=\"none\"/>\n",
              "    <path d=\"M18.56 5.44l.94 2.06.94-2.06 2.06-.94-2.06-.94-.94-2.06-.94 2.06-2.06.94zm-11 1L8.5 8.5l.94-2.06 2.06-.94-2.06-.94L8.5 2.5l-.94 2.06-2.06.94zm10 10l.94 2.06.94-2.06 2.06-.94-2.06-.94-.94-2.06-.94 2.06-2.06.94z\"/><path d=\"M17.41 7.96l-1.37-1.37c-.4-.4-.92-.59-1.43-.59-.52 0-1.04.2-1.43.59L10.3 9.45l-7.72 7.72c-.78.78-.78 2.05 0 2.83L4 21.41c.39.39.9.59 1.41.59.51 0 1.02-.2 1.41-.59l7.78-7.78 2.81-2.81c.8-.78.8-2.07 0-2.86zM5.41 20L4 18.59l7.72-7.72 1.47 1.35L5.41 20z\"/>\n",
              "  </svg>\n",
              "      </button>\n",
              "      \n",
              "  <style>\n",
              "    .colab-df-container {\n",
              "      display:flex;\n",
              "      flex-wrap:wrap;\n",
              "      gap: 12px;\n",
              "    }\n",
              "\n",
              "    .colab-df-convert {\n",
              "      background-color: #E8F0FE;\n",
              "      border: none;\n",
              "      border-radius: 50%;\n",
              "      cursor: pointer;\n",
              "      display: none;\n",
              "      fill: #1967D2;\n",
              "      height: 32px;\n",
              "      padding: 0 0 0 0;\n",
              "      width: 32px;\n",
              "    }\n",
              "\n",
              "    .colab-df-convert:hover {\n",
              "      background-color: #E2EBFA;\n",
              "      box-shadow: 0px 1px 2px rgba(60, 64, 67, 0.3), 0px 1px 3px 1px rgba(60, 64, 67, 0.15);\n",
              "      fill: #174EA6;\n",
              "    }\n",
              "\n",
              "    [theme=dark] .colab-df-convert {\n",
              "      background-color: #3B4455;\n",
              "      fill: #D2E3FC;\n",
              "    }\n",
              "\n",
              "    [theme=dark] .colab-df-convert:hover {\n",
              "      background-color: #434B5C;\n",
              "      box-shadow: 0px 1px 3px 1px rgba(0, 0, 0, 0.15);\n",
              "      filter: drop-shadow(0px 1px 2px rgba(0, 0, 0, 0.3));\n",
              "      fill: #FFFFFF;\n",
              "    }\n",
              "  </style>\n",
              "\n",
              "      <script>\n",
              "        const buttonEl =\n",
              "          document.querySelector('#df-983a7725-1fc7-478f-aeac-6ca6c0258fb5 button.colab-df-convert');\n",
              "        buttonEl.style.display =\n",
              "          google.colab.kernel.accessAllowed ? 'block' : 'none';\n",
              "\n",
              "        async function convertToInteractive(key) {\n",
              "          const element = document.querySelector('#df-983a7725-1fc7-478f-aeac-6ca6c0258fb5');\n",
              "          const dataTable =\n",
              "            await google.colab.kernel.invokeFunction('convertToInteractive',\n",
              "                                                     [key], {});\n",
              "          if (!dataTable) return;\n",
              "\n",
              "          const docLinkHtml = 'Like what you see? Visit the ' +\n",
              "            '<a target=\"_blank\" href=https://colab.research.google.com/notebooks/data_table.ipynb>data table notebook</a>'\n",
              "            + ' to learn more about interactive tables.';\n",
              "          element.innerHTML = '';\n",
              "          dataTable['output_type'] = 'display_data';\n",
              "          await google.colab.output.renderOutput(dataTable, element);\n",
              "          const docLink = document.createElement('div');\n",
              "          docLink.innerHTML = docLinkHtml;\n",
              "          element.appendChild(docLink);\n",
              "        }\n",
              "      </script>\n",
              "    </div>\n",
              "  </div>\n",
              "  "
            ]
          },
          "metadata": {},
          "execution_count": 48
        }
      ]
    },
    {
      "cell_type": "markdown",
      "source": [
        "Para efeito de curiosidade, a média do diâmetro entre todos os planetas foi de 12.388KM, onde o nosso planeta *terra*, possui um diâmetro maior alcançando    12.742KM"
      ],
      "metadata": {
        "id": "vwD0X-8F9iJM"
      }
    },
    {
      "cell_type": "code",
      "source": [
        "dfp['diameter'].mean()"
      ],
      "metadata": {
        "colab": {
          "base_uri": "https://localhost:8080/"
        },
        "id": "B4GuamHm9XNW",
        "outputId": "187853fc-ad1d-4844-82ea-881c6b0e8d9c"
      },
      "execution_count": null,
      "outputs": [
        {
          "output_type": "execute_result",
          "data": {
            "text/plain": [
              "12388.34090909091"
            ]
          },
          "metadata": {},
          "execution_count": 49
        }
      ]
    },
    {
      "cell_type": "markdown",
      "source": [
        "Com a visualização do nosso **dataset**, ja podemos ver algumas informações que para nós teria uma relevancia, tais como:\n",
        "\n",
        "*   **climate**: *Para entedermos o tipo de clima do planeta*\n",
        "*   **terrain**: *Para entendermos o tipo geografico do planeta*\n",
        "*   **surface_water**: *Para entendermos o quanto de água o planeta possui*\n",
        "*   **rotation_period**: *Para entendermos como funciona rotação do planeta, desta forma conseguiriamos ver se o planeta passa mais tempo no claro ou escuro.*\n",
        "\n",
        "\n",
        "Seguiremos com esta análise para complementar o que foi feito aqui\n",
        "\n"
      ],
      "metadata": {
        "id": "h-pvJGcq7cun"
      }
    },
    {
      "cell_type": "code",
      "source": [
        "# Vamos entender um pouco o nosso TOP2 planetas que foram listado como mais populosos e indentificar o motivo disso.\n",
        "dfp.get(dfp['name'] == 'Tatooine')"
      ],
      "metadata": {
        "colab": {
          "base_uri": "https://localhost:8080/",
          "height": 81
        },
        "id": "cVcsbQ59AhD9",
        "outputId": "b742485e-376c-48b1-9d21-bac36b87d00f"
      },
      "execution_count": null,
      "outputs": [
        {
          "output_type": "execute_result",
          "data": {
            "text/plain": [
              "        name  rotation_period  orbital_period  diameter climate     gravity  \\\n",
              "59  Tatooine             23.0           304.0   10465.0    arid  1 standard   \n",
              "\n",
              "   terrain  surface_water  population  \n",
              "59  desert            1.0    200000.0  "
            ],
            "text/html": [
              "\n",
              "  <div id=\"df-f977ba26-05d1-4ebc-8317-32fd84009a57\">\n",
              "    <div class=\"colab-df-container\">\n",
              "      <div>\n",
              "<style scoped>\n",
              "    .dataframe tbody tr th:only-of-type {\n",
              "        vertical-align: middle;\n",
              "    }\n",
              "\n",
              "    .dataframe tbody tr th {\n",
              "        vertical-align: top;\n",
              "    }\n",
              "\n",
              "    .dataframe thead th {\n",
              "        text-align: right;\n",
              "    }\n",
              "</style>\n",
              "<table border=\"1\" class=\"dataframe\">\n",
              "  <thead>\n",
              "    <tr style=\"text-align: right;\">\n",
              "      <th></th>\n",
              "      <th>name</th>\n",
              "      <th>rotation_period</th>\n",
              "      <th>orbital_period</th>\n",
              "      <th>diameter</th>\n",
              "      <th>climate</th>\n",
              "      <th>gravity</th>\n",
              "      <th>terrain</th>\n",
              "      <th>surface_water</th>\n",
              "      <th>population</th>\n",
              "    </tr>\n",
              "  </thead>\n",
              "  <tbody>\n",
              "    <tr>\n",
              "      <th>59</th>\n",
              "      <td>Tatooine</td>\n",
              "      <td>23.0</td>\n",
              "      <td>304.0</td>\n",
              "      <td>10465.0</td>\n",
              "      <td>arid</td>\n",
              "      <td>1 standard</td>\n",
              "      <td>desert</td>\n",
              "      <td>1.0</td>\n",
              "      <td>200000.0</td>\n",
              "    </tr>\n",
              "  </tbody>\n",
              "</table>\n",
              "</div>\n",
              "      <button class=\"colab-df-convert\" onclick=\"convertToInteractive('df-f977ba26-05d1-4ebc-8317-32fd84009a57')\"\n",
              "              title=\"Convert this dataframe to an interactive table.\"\n",
              "              style=\"display:none;\">\n",
              "        \n",
              "  <svg xmlns=\"http://www.w3.org/2000/svg\" height=\"24px\"viewBox=\"0 0 24 24\"\n",
              "       width=\"24px\">\n",
              "    <path d=\"M0 0h24v24H0V0z\" fill=\"none\"/>\n",
              "    <path d=\"M18.56 5.44l.94 2.06.94-2.06 2.06-.94-2.06-.94-.94-2.06-.94 2.06-2.06.94zm-11 1L8.5 8.5l.94-2.06 2.06-.94-2.06-.94L8.5 2.5l-.94 2.06-2.06.94zm10 10l.94 2.06.94-2.06 2.06-.94-2.06-.94-.94-2.06-.94 2.06-2.06.94z\"/><path d=\"M17.41 7.96l-1.37-1.37c-.4-.4-.92-.59-1.43-.59-.52 0-1.04.2-1.43.59L10.3 9.45l-7.72 7.72c-.78.78-.78 2.05 0 2.83L4 21.41c.39.39.9.59 1.41.59.51 0 1.02-.2 1.41-.59l7.78-7.78 2.81-2.81c.8-.78.8-2.07 0-2.86zM5.41 20L4 18.59l7.72-7.72 1.47 1.35L5.41 20z\"/>\n",
              "  </svg>\n",
              "      </button>\n",
              "      \n",
              "  <style>\n",
              "    .colab-df-container {\n",
              "      display:flex;\n",
              "      flex-wrap:wrap;\n",
              "      gap: 12px;\n",
              "    }\n",
              "\n",
              "    .colab-df-convert {\n",
              "      background-color: #E8F0FE;\n",
              "      border: none;\n",
              "      border-radius: 50%;\n",
              "      cursor: pointer;\n",
              "      display: none;\n",
              "      fill: #1967D2;\n",
              "      height: 32px;\n",
              "      padding: 0 0 0 0;\n",
              "      width: 32px;\n",
              "    }\n",
              "\n",
              "    .colab-df-convert:hover {\n",
              "      background-color: #E2EBFA;\n",
              "      box-shadow: 0px 1px 2px rgba(60, 64, 67, 0.3), 0px 1px 3px 1px rgba(60, 64, 67, 0.15);\n",
              "      fill: #174EA6;\n",
              "    }\n",
              "\n",
              "    [theme=dark] .colab-df-convert {\n",
              "      background-color: #3B4455;\n",
              "      fill: #D2E3FC;\n",
              "    }\n",
              "\n",
              "    [theme=dark] .colab-df-convert:hover {\n",
              "      background-color: #434B5C;\n",
              "      box-shadow: 0px 1px 3px 1px rgba(0, 0, 0, 0.15);\n",
              "      filter: drop-shadow(0px 1px 2px rgba(0, 0, 0, 0.3));\n",
              "      fill: #FFFFFF;\n",
              "    }\n",
              "  </style>\n",
              "\n",
              "      <script>\n",
              "        const buttonEl =\n",
              "          document.querySelector('#df-f977ba26-05d1-4ebc-8317-32fd84009a57 button.colab-df-convert');\n",
              "        buttonEl.style.display =\n",
              "          google.colab.kernel.accessAllowed ? 'block' : 'none';\n",
              "\n",
              "        async function convertToInteractive(key) {\n",
              "          const element = document.querySelector('#df-f977ba26-05d1-4ebc-8317-32fd84009a57');\n",
              "          const dataTable =\n",
              "            await google.colab.kernel.invokeFunction('convertToInteractive',\n",
              "                                                     [key], {});\n",
              "          if (!dataTable) return;\n",
              "\n",
              "          const docLinkHtml = 'Like what you see? Visit the ' +\n",
              "            '<a target=\"_blank\" href=https://colab.research.google.com/notebooks/data_table.ipynb>data table notebook</a>'\n",
              "            + ' to learn more about interactive tables.';\n",
              "          element.innerHTML = '';\n",
              "          dataTable['output_type'] = 'display_data';\n",
              "          await google.colab.output.renderOutput(dataTable, element);\n",
              "          const docLink = document.createElement('div');\n",
              "          docLink.innerHTML = docLinkHtml;\n",
              "          element.appendChild(docLink);\n",
              "        }\n",
              "      </script>\n",
              "    </div>\n",
              "  </div>\n",
              "  "
            ]
          },
          "metadata": {},
          "execution_count": 50
        }
      ]
    },
    {
      "cell_type": "code",
      "source": [
        "dfp.get(dfp['name'] == 'Naboo')"
      ],
      "metadata": {
        "colab": {
          "base_uri": "https://localhost:8080/",
          "height": 81
        },
        "id": "pNv7xgY3OWBb",
        "outputId": "ecbc5e84-a723-4e03-9caa-c9de834fc6ae"
      },
      "execution_count": null,
      "outputs": [
        {
          "output_type": "execute_result",
          "data": {
            "text/plain": [
              "    name  rotation_period  orbital_period  diameter    climate     gravity  \\\n",
              "6  Naboo             26.0           312.0   12120.0  temperate  1 standard   \n",
              "\n",
              "                                    terrain  surface_water    population  \n",
              "6  grassy hills, swamps, forests, mountains           12.0  4.500000e+09  "
            ],
            "text/html": [
              "\n",
              "  <div id=\"df-dbf754fa-287f-4e38-af9a-129dcc297c21\">\n",
              "    <div class=\"colab-df-container\">\n",
              "      <div>\n",
              "<style scoped>\n",
              "    .dataframe tbody tr th:only-of-type {\n",
              "        vertical-align: middle;\n",
              "    }\n",
              "\n",
              "    .dataframe tbody tr th {\n",
              "        vertical-align: top;\n",
              "    }\n",
              "\n",
              "    .dataframe thead th {\n",
              "        text-align: right;\n",
              "    }\n",
              "</style>\n",
              "<table border=\"1\" class=\"dataframe\">\n",
              "  <thead>\n",
              "    <tr style=\"text-align: right;\">\n",
              "      <th></th>\n",
              "      <th>name</th>\n",
              "      <th>rotation_period</th>\n",
              "      <th>orbital_period</th>\n",
              "      <th>diameter</th>\n",
              "      <th>climate</th>\n",
              "      <th>gravity</th>\n",
              "      <th>terrain</th>\n",
              "      <th>surface_water</th>\n",
              "      <th>population</th>\n",
              "    </tr>\n",
              "  </thead>\n",
              "  <tbody>\n",
              "    <tr>\n",
              "      <th>6</th>\n",
              "      <td>Naboo</td>\n",
              "      <td>26.0</td>\n",
              "      <td>312.0</td>\n",
              "      <td>12120.0</td>\n",
              "      <td>temperate</td>\n",
              "      <td>1 standard</td>\n",
              "      <td>grassy hills, swamps, forests, mountains</td>\n",
              "      <td>12.0</td>\n",
              "      <td>4.500000e+09</td>\n",
              "    </tr>\n",
              "  </tbody>\n",
              "</table>\n",
              "</div>\n",
              "      <button class=\"colab-df-convert\" onclick=\"convertToInteractive('df-dbf754fa-287f-4e38-af9a-129dcc297c21')\"\n",
              "              title=\"Convert this dataframe to an interactive table.\"\n",
              "              style=\"display:none;\">\n",
              "        \n",
              "  <svg xmlns=\"http://www.w3.org/2000/svg\" height=\"24px\"viewBox=\"0 0 24 24\"\n",
              "       width=\"24px\">\n",
              "    <path d=\"M0 0h24v24H0V0z\" fill=\"none\"/>\n",
              "    <path d=\"M18.56 5.44l.94 2.06.94-2.06 2.06-.94-2.06-.94-.94-2.06-.94 2.06-2.06.94zm-11 1L8.5 8.5l.94-2.06 2.06-.94-2.06-.94L8.5 2.5l-.94 2.06-2.06.94zm10 10l.94 2.06.94-2.06 2.06-.94-2.06-.94-.94-2.06-.94 2.06-2.06.94z\"/><path d=\"M17.41 7.96l-1.37-1.37c-.4-.4-.92-.59-1.43-.59-.52 0-1.04.2-1.43.59L10.3 9.45l-7.72 7.72c-.78.78-.78 2.05 0 2.83L4 21.41c.39.39.9.59 1.41.59.51 0 1.02-.2 1.41-.59l7.78-7.78 2.81-2.81c.8-.78.8-2.07 0-2.86zM5.41 20L4 18.59l7.72-7.72 1.47 1.35L5.41 20z\"/>\n",
              "  </svg>\n",
              "      </button>\n",
              "      \n",
              "  <style>\n",
              "    .colab-df-container {\n",
              "      display:flex;\n",
              "      flex-wrap:wrap;\n",
              "      gap: 12px;\n",
              "    }\n",
              "\n",
              "    .colab-df-convert {\n",
              "      background-color: #E8F0FE;\n",
              "      border: none;\n",
              "      border-radius: 50%;\n",
              "      cursor: pointer;\n",
              "      display: none;\n",
              "      fill: #1967D2;\n",
              "      height: 32px;\n",
              "      padding: 0 0 0 0;\n",
              "      width: 32px;\n",
              "    }\n",
              "\n",
              "    .colab-df-convert:hover {\n",
              "      background-color: #E2EBFA;\n",
              "      box-shadow: 0px 1px 2px rgba(60, 64, 67, 0.3), 0px 1px 3px 1px rgba(60, 64, 67, 0.15);\n",
              "      fill: #174EA6;\n",
              "    }\n",
              "\n",
              "    [theme=dark] .colab-df-convert {\n",
              "      background-color: #3B4455;\n",
              "      fill: #D2E3FC;\n",
              "    }\n",
              "\n",
              "    [theme=dark] .colab-df-convert:hover {\n",
              "      background-color: #434B5C;\n",
              "      box-shadow: 0px 1px 3px 1px rgba(0, 0, 0, 0.15);\n",
              "      filter: drop-shadow(0px 1px 2px rgba(0, 0, 0, 0.3));\n",
              "      fill: #FFFFFF;\n",
              "    }\n",
              "  </style>\n",
              "\n",
              "      <script>\n",
              "        const buttonEl =\n",
              "          document.querySelector('#df-dbf754fa-287f-4e38-af9a-129dcc297c21 button.colab-df-convert');\n",
              "        buttonEl.style.display =\n",
              "          google.colab.kernel.accessAllowed ? 'block' : 'none';\n",
              "\n",
              "        async function convertToInteractive(key) {\n",
              "          const element = document.querySelector('#df-dbf754fa-287f-4e38-af9a-129dcc297c21');\n",
              "          const dataTable =\n",
              "            await google.colab.kernel.invokeFunction('convertToInteractive',\n",
              "                                                     [key], {});\n",
              "          if (!dataTable) return;\n",
              "\n",
              "          const docLinkHtml = 'Like what you see? Visit the ' +\n",
              "            '<a target=\"_blank\" href=https://colab.research.google.com/notebooks/data_table.ipynb>data table notebook</a>'\n",
              "            + ' to learn more about interactive tables.';\n",
              "          element.innerHTML = '';\n",
              "          dataTable['output_type'] = 'display_data';\n",
              "          await google.colab.output.renderOutput(dataTable, element);\n",
              "          const docLink = document.createElement('div');\n",
              "          docLink.innerHTML = docLinkHtml;\n",
              "          element.appendChild(docLink);\n",
              "        }\n",
              "      </script>\n",
              "    </div>\n",
              "  </div>\n",
              "  "
            ]
          },
          "metadata": {},
          "execution_count": 51
        }
      ]
    },
    {
      "cell_type": "markdown",
      "source": [
        "Utilizando o metodo **.get**, busquei e uma coluna especifica definida como **'name'** e especifiquei quais planetas queria pelo seu nome."
      ],
      "metadata": {
        "id": "Fxy-mB1yStuK"
      }
    },
    {
      "cell_type": "markdown",
      "source": [
        "Logo de cara percebemos que **Naboo** possui uma região coberta por água muita do que **Tatooine**, até mesmo sua população total reflete essa diferença."
      ],
      "metadata": {
        "id": "y8zPhA47UQUB"
      }
    },
    {
      "cell_type": "markdown",
      "source": [
        "Definindo um variavel **rot** abreviação de rotation, indiquei um codigo para que ele pudesse um realizar uma soma, caso encontra-se mesmos valores. "
      ],
      "metadata": {
        "id": "KTIaDltTc-DL"
      }
    },
    {
      "cell_type": "code",
      "source": [
        "rot = dfp.groupby(['name']).agg({\"rotation_period\": \"sum\"})\n",
        "rot"
      ],
      "metadata": {
        "colab": {
          "base_uri": "https://localhost:8080/",
          "height": 1000
        },
        "id": "9PPG9_VxUeTF",
        "outputId": "6d2c777f-4fe6-4707-90bb-bbf31602cefd"
      },
      "execution_count": null,
      "outputs": [
        {
          "output_type": "execute_result",
          "data": {
            "text/plain": [
              "                rotation_period\n",
              "name                           \n",
              "Alderaan                   24.0\n",
              "Aleen Minor                 0.0\n",
              "Bespin                     12.0\n",
              "Bestine IV                 26.0\n",
              "Cato Neimoidia             25.0\n",
              "Cerea                      27.0\n",
              "Champala                   27.0\n",
              "Chandrila                  20.0\n",
              "Concord Dawn                0.0\n",
              "Corellia                   25.0\n",
              "Coruscant                  24.0\n",
              "Dagobah                    23.0\n",
              "Dantooine                  25.0\n",
              "Dathomir                   24.0\n",
              "Dorin                      22.0\n",
              "Endor                      18.0\n",
              "Eriadu                     24.0\n",
              "Felucia                    34.0\n",
              "Geonosis                   30.0\n",
              "Glee Anselm                33.0\n",
              "Haruun Kal                 25.0\n",
              "Hoth                       23.0\n",
              "Iktotch                    22.0\n",
              "Iridonia                   29.0\n",
              "Jakku                       0.0\n",
              "Kalee                      23.0\n",
              "Kamino                     27.0\n",
              "Kashyyyk                   26.0\n",
              "Malastare                  26.0\n",
              "Mirial                      0.0\n",
              "Mon Cala                   21.0\n",
              "Mustafar                   36.0\n",
              "Muunilinst                 28.0\n",
              "Mygeeto                    12.0\n",
              "Naboo                      26.0\n",
              "Nal Hutta                  87.0\n",
              "Ojom                        0.0\n",
              "Ord Mantell                26.0\n",
              "Polis Massa                24.0\n",
              "Quermia                     0.0\n",
              "Rodia                      29.0\n",
              "Ryloth                     30.0\n",
              "Saleucami                  26.0\n",
              "Serenno                     0.0\n",
              "Shili                       0.0\n",
              "Skako                      27.0\n",
              "Socorro                    20.0\n",
              "Stewjon                     0.0\n",
              "Sullust                    20.0\n",
              "Tatooine                   23.0\n",
              "Tholoth                     0.0\n",
              "Toydaria                   21.0\n",
              "Trandosha                  25.0\n",
              "Troiken                     0.0\n",
              "Tund                       48.0\n",
              "Umbara                      0.0\n",
              "Utapau                     27.0\n",
              "Vulpter                    22.0\n",
              "Yavin IV                   24.0\n",
              "Zolan                       0.0"
            ],
            "text/html": [
              "\n",
              "  <div id=\"df-b83d34f4-53d7-4fae-95cf-73e590b080cf\">\n",
              "    <div class=\"colab-df-container\">\n",
              "      <div>\n",
              "<style scoped>\n",
              "    .dataframe tbody tr th:only-of-type {\n",
              "        vertical-align: middle;\n",
              "    }\n",
              "\n",
              "    .dataframe tbody tr th {\n",
              "        vertical-align: top;\n",
              "    }\n",
              "\n",
              "    .dataframe thead th {\n",
              "        text-align: right;\n",
              "    }\n",
              "</style>\n",
              "<table border=\"1\" class=\"dataframe\">\n",
              "  <thead>\n",
              "    <tr style=\"text-align: right;\">\n",
              "      <th></th>\n",
              "      <th>rotation_period</th>\n",
              "    </tr>\n",
              "    <tr>\n",
              "      <th>name</th>\n",
              "      <th></th>\n",
              "    </tr>\n",
              "  </thead>\n",
              "  <tbody>\n",
              "    <tr>\n",
              "      <th>Alderaan</th>\n",
              "      <td>24.0</td>\n",
              "    </tr>\n",
              "    <tr>\n",
              "      <th>Aleen Minor</th>\n",
              "      <td>0.0</td>\n",
              "    </tr>\n",
              "    <tr>\n",
              "      <th>Bespin</th>\n",
              "      <td>12.0</td>\n",
              "    </tr>\n",
              "    <tr>\n",
              "      <th>Bestine IV</th>\n",
              "      <td>26.0</td>\n",
              "    </tr>\n",
              "    <tr>\n",
              "      <th>Cato Neimoidia</th>\n",
              "      <td>25.0</td>\n",
              "    </tr>\n",
              "    <tr>\n",
              "      <th>Cerea</th>\n",
              "      <td>27.0</td>\n",
              "    </tr>\n",
              "    <tr>\n",
              "      <th>Champala</th>\n",
              "      <td>27.0</td>\n",
              "    </tr>\n",
              "    <tr>\n",
              "      <th>Chandrila</th>\n",
              "      <td>20.0</td>\n",
              "    </tr>\n",
              "    <tr>\n",
              "      <th>Concord Dawn</th>\n",
              "      <td>0.0</td>\n",
              "    </tr>\n",
              "    <tr>\n",
              "      <th>Corellia</th>\n",
              "      <td>25.0</td>\n",
              "    </tr>\n",
              "    <tr>\n",
              "      <th>Coruscant</th>\n",
              "      <td>24.0</td>\n",
              "    </tr>\n",
              "    <tr>\n",
              "      <th>Dagobah</th>\n",
              "      <td>23.0</td>\n",
              "    </tr>\n",
              "    <tr>\n",
              "      <th>Dantooine</th>\n",
              "      <td>25.0</td>\n",
              "    </tr>\n",
              "    <tr>\n",
              "      <th>Dathomir</th>\n",
              "      <td>24.0</td>\n",
              "    </tr>\n",
              "    <tr>\n",
              "      <th>Dorin</th>\n",
              "      <td>22.0</td>\n",
              "    </tr>\n",
              "    <tr>\n",
              "      <th>Endor</th>\n",
              "      <td>18.0</td>\n",
              "    </tr>\n",
              "    <tr>\n",
              "      <th>Eriadu</th>\n",
              "      <td>24.0</td>\n",
              "    </tr>\n",
              "    <tr>\n",
              "      <th>Felucia</th>\n",
              "      <td>34.0</td>\n",
              "    </tr>\n",
              "    <tr>\n",
              "      <th>Geonosis</th>\n",
              "      <td>30.0</td>\n",
              "    </tr>\n",
              "    <tr>\n",
              "      <th>Glee Anselm</th>\n",
              "      <td>33.0</td>\n",
              "    </tr>\n",
              "    <tr>\n",
              "      <th>Haruun Kal</th>\n",
              "      <td>25.0</td>\n",
              "    </tr>\n",
              "    <tr>\n",
              "      <th>Hoth</th>\n",
              "      <td>23.0</td>\n",
              "    </tr>\n",
              "    <tr>\n",
              "      <th>Iktotch</th>\n",
              "      <td>22.0</td>\n",
              "    </tr>\n",
              "    <tr>\n",
              "      <th>Iridonia</th>\n",
              "      <td>29.0</td>\n",
              "    </tr>\n",
              "    <tr>\n",
              "      <th>Jakku</th>\n",
              "      <td>0.0</td>\n",
              "    </tr>\n",
              "    <tr>\n",
              "      <th>Kalee</th>\n",
              "      <td>23.0</td>\n",
              "    </tr>\n",
              "    <tr>\n",
              "      <th>Kamino</th>\n",
              "      <td>27.0</td>\n",
              "    </tr>\n",
              "    <tr>\n",
              "      <th>Kashyyyk</th>\n",
              "      <td>26.0</td>\n",
              "    </tr>\n",
              "    <tr>\n",
              "      <th>Malastare</th>\n",
              "      <td>26.0</td>\n",
              "    </tr>\n",
              "    <tr>\n",
              "      <th>Mirial</th>\n",
              "      <td>0.0</td>\n",
              "    </tr>\n",
              "    <tr>\n",
              "      <th>Mon Cala</th>\n",
              "      <td>21.0</td>\n",
              "    </tr>\n",
              "    <tr>\n",
              "      <th>Mustafar</th>\n",
              "      <td>36.0</td>\n",
              "    </tr>\n",
              "    <tr>\n",
              "      <th>Muunilinst</th>\n",
              "      <td>28.0</td>\n",
              "    </tr>\n",
              "    <tr>\n",
              "      <th>Mygeeto</th>\n",
              "      <td>12.0</td>\n",
              "    </tr>\n",
              "    <tr>\n",
              "      <th>Naboo</th>\n",
              "      <td>26.0</td>\n",
              "    </tr>\n",
              "    <tr>\n",
              "      <th>Nal Hutta</th>\n",
              "      <td>87.0</td>\n",
              "    </tr>\n",
              "    <tr>\n",
              "      <th>Ojom</th>\n",
              "      <td>0.0</td>\n",
              "    </tr>\n",
              "    <tr>\n",
              "      <th>Ord Mantell</th>\n",
              "      <td>26.0</td>\n",
              "    </tr>\n",
              "    <tr>\n",
              "      <th>Polis Massa</th>\n",
              "      <td>24.0</td>\n",
              "    </tr>\n",
              "    <tr>\n",
              "      <th>Quermia</th>\n",
              "      <td>0.0</td>\n",
              "    </tr>\n",
              "    <tr>\n",
              "      <th>Rodia</th>\n",
              "      <td>29.0</td>\n",
              "    </tr>\n",
              "    <tr>\n",
              "      <th>Ryloth</th>\n",
              "      <td>30.0</td>\n",
              "    </tr>\n",
              "    <tr>\n",
              "      <th>Saleucami</th>\n",
              "      <td>26.0</td>\n",
              "    </tr>\n",
              "    <tr>\n",
              "      <th>Serenno</th>\n",
              "      <td>0.0</td>\n",
              "    </tr>\n",
              "    <tr>\n",
              "      <th>Shili</th>\n",
              "      <td>0.0</td>\n",
              "    </tr>\n",
              "    <tr>\n",
              "      <th>Skako</th>\n",
              "      <td>27.0</td>\n",
              "    </tr>\n",
              "    <tr>\n",
              "      <th>Socorro</th>\n",
              "      <td>20.0</td>\n",
              "    </tr>\n",
              "    <tr>\n",
              "      <th>Stewjon</th>\n",
              "      <td>0.0</td>\n",
              "    </tr>\n",
              "    <tr>\n",
              "      <th>Sullust</th>\n",
              "      <td>20.0</td>\n",
              "    </tr>\n",
              "    <tr>\n",
              "      <th>Tatooine</th>\n",
              "      <td>23.0</td>\n",
              "    </tr>\n",
              "    <tr>\n",
              "      <th>Tholoth</th>\n",
              "      <td>0.0</td>\n",
              "    </tr>\n",
              "    <tr>\n",
              "      <th>Toydaria</th>\n",
              "      <td>21.0</td>\n",
              "    </tr>\n",
              "    <tr>\n",
              "      <th>Trandosha</th>\n",
              "      <td>25.0</td>\n",
              "    </tr>\n",
              "    <tr>\n",
              "      <th>Troiken</th>\n",
              "      <td>0.0</td>\n",
              "    </tr>\n",
              "    <tr>\n",
              "      <th>Tund</th>\n",
              "      <td>48.0</td>\n",
              "    </tr>\n",
              "    <tr>\n",
              "      <th>Umbara</th>\n",
              "      <td>0.0</td>\n",
              "    </tr>\n",
              "    <tr>\n",
              "      <th>Utapau</th>\n",
              "      <td>27.0</td>\n",
              "    </tr>\n",
              "    <tr>\n",
              "      <th>Vulpter</th>\n",
              "      <td>22.0</td>\n",
              "    </tr>\n",
              "    <tr>\n",
              "      <th>Yavin IV</th>\n",
              "      <td>24.0</td>\n",
              "    </tr>\n",
              "    <tr>\n",
              "      <th>Zolan</th>\n",
              "      <td>0.0</td>\n",
              "    </tr>\n",
              "  </tbody>\n",
              "</table>\n",
              "</div>\n",
              "      <button class=\"colab-df-convert\" onclick=\"convertToInteractive('df-b83d34f4-53d7-4fae-95cf-73e590b080cf')\"\n",
              "              title=\"Convert this dataframe to an interactive table.\"\n",
              "              style=\"display:none;\">\n",
              "        \n",
              "  <svg xmlns=\"http://www.w3.org/2000/svg\" height=\"24px\"viewBox=\"0 0 24 24\"\n",
              "       width=\"24px\">\n",
              "    <path d=\"M0 0h24v24H0V0z\" fill=\"none\"/>\n",
              "    <path d=\"M18.56 5.44l.94 2.06.94-2.06 2.06-.94-2.06-.94-.94-2.06-.94 2.06-2.06.94zm-11 1L8.5 8.5l.94-2.06 2.06-.94-2.06-.94L8.5 2.5l-.94 2.06-2.06.94zm10 10l.94 2.06.94-2.06 2.06-.94-2.06-.94-.94-2.06-.94 2.06-2.06.94z\"/><path d=\"M17.41 7.96l-1.37-1.37c-.4-.4-.92-.59-1.43-.59-.52 0-1.04.2-1.43.59L10.3 9.45l-7.72 7.72c-.78.78-.78 2.05 0 2.83L4 21.41c.39.39.9.59 1.41.59.51 0 1.02-.2 1.41-.59l7.78-7.78 2.81-2.81c.8-.78.8-2.07 0-2.86zM5.41 20L4 18.59l7.72-7.72 1.47 1.35L5.41 20z\"/>\n",
              "  </svg>\n",
              "      </button>\n",
              "      \n",
              "  <style>\n",
              "    .colab-df-container {\n",
              "      display:flex;\n",
              "      flex-wrap:wrap;\n",
              "      gap: 12px;\n",
              "    }\n",
              "\n",
              "    .colab-df-convert {\n",
              "      background-color: #E8F0FE;\n",
              "      border: none;\n",
              "      border-radius: 50%;\n",
              "      cursor: pointer;\n",
              "      display: none;\n",
              "      fill: #1967D2;\n",
              "      height: 32px;\n",
              "      padding: 0 0 0 0;\n",
              "      width: 32px;\n",
              "    }\n",
              "\n",
              "    .colab-df-convert:hover {\n",
              "      background-color: #E2EBFA;\n",
              "      box-shadow: 0px 1px 2px rgba(60, 64, 67, 0.3), 0px 1px 3px 1px rgba(60, 64, 67, 0.15);\n",
              "      fill: #174EA6;\n",
              "    }\n",
              "\n",
              "    [theme=dark] .colab-df-convert {\n",
              "      background-color: #3B4455;\n",
              "      fill: #D2E3FC;\n",
              "    }\n",
              "\n",
              "    [theme=dark] .colab-df-convert:hover {\n",
              "      background-color: #434B5C;\n",
              "      box-shadow: 0px 1px 3px 1px rgba(0, 0, 0, 0.15);\n",
              "      filter: drop-shadow(0px 1px 2px rgba(0, 0, 0, 0.3));\n",
              "      fill: #FFFFFF;\n",
              "    }\n",
              "  </style>\n",
              "\n",
              "      <script>\n",
              "        const buttonEl =\n",
              "          document.querySelector('#df-b83d34f4-53d7-4fae-95cf-73e590b080cf button.colab-df-convert');\n",
              "        buttonEl.style.display =\n",
              "          google.colab.kernel.accessAllowed ? 'block' : 'none';\n",
              "\n",
              "        async function convertToInteractive(key) {\n",
              "          const element = document.querySelector('#df-b83d34f4-53d7-4fae-95cf-73e590b080cf');\n",
              "          const dataTable =\n",
              "            await google.colab.kernel.invokeFunction('convertToInteractive',\n",
              "                                                     [key], {});\n",
              "          if (!dataTable) return;\n",
              "\n",
              "          const docLinkHtml = 'Like what you see? Visit the ' +\n",
              "            '<a target=\"_blank\" href=https://colab.research.google.com/notebooks/data_table.ipynb>data table notebook</a>'\n",
              "            + ' to learn more about interactive tables.';\n",
              "          element.innerHTML = '';\n",
              "          dataTable['output_type'] = 'display_data';\n",
              "          await google.colab.output.renderOutput(dataTable, element);\n",
              "          const docLink = document.createElement('div');\n",
              "          docLink.innerHTML = docLinkHtml;\n",
              "          element.appendChild(docLink);\n",
              "        }\n",
              "      </script>\n",
              "    </div>\n",
              "  </div>\n",
              "  "
            ]
          },
          "metadata": {},
          "execution_count": 52
        }
      ]
    },
    {
      "cell_type": "markdown",
      "source": [
        "Entendendo a \"rotation_period\" como rotaçãos dos planetas, onde podemos entender quanto tempo leva para completar rotação, entendendo que temos dias e noites mais longas. "
      ],
      "metadata": {
        "id": "Z9VTAajwdhsm"
      }
    },
    {
      "cell_type": "code",
      "source": [
        "# Quis verificar quantas linhas temos nessa variavel feita, a informação se da como (60 linhas, 1 coluna)\n",
        "rot.shape"
      ],
      "metadata": {
        "colab": {
          "base_uri": "https://localhost:8080/"
        },
        "id": "kklJ5voxdPzd",
        "outputId": "3172a50b-acd9-411e-d3e7-8b9ba78ee31b"
      },
      "execution_count": null,
      "outputs": [
        {
          "output_type": "execute_result",
          "data": {
            "text/plain": [
              "(60, 1)"
            ]
          },
          "metadata": {},
          "execution_count": 53
        }
      ]
    },
    {
      "cell_type": "markdown",
      "source": [
        "Devido a extensão de informações, para melhorar nossa visualização os campos vazios irei aplicar um dropNA para que possamos elimina-los"
      ],
      "metadata": {
        "id": "rMqupZ-4VyWJ"
      }
    },
    {
      "cell_type": "code",
      "source": [
        "dfp.loc[dfp['name'] == 'Tatooine']['rotation_period']"
      ],
      "metadata": {
        "colab": {
          "base_uri": "https://localhost:8080/"
        },
        "id": "MfdPk92GazRm",
        "outputId": "4bc0f715-5735-4109-b985-d85d36baa044"
      },
      "execution_count": null,
      "outputs": [
        {
          "output_type": "execute_result",
          "data": {
            "text/plain": [
              "59    23.0\n",
              "Name: rotation_period, dtype: float64"
            ]
          },
          "metadata": {},
          "execution_count": 54
        }
      ]
    },
    {
      "cell_type": "markdown",
      "source": [
        "Tatooine tem o dia e noite mais curtos"
      ],
      "metadata": {
        "id": "2MTJqWnnfC9O"
      }
    },
    {
      "cell_type": "code",
      "source": [
        "dfp.loc[dfp['name'] == 'Naboo']['rotation_period']"
      ],
      "metadata": {
        "colab": {
          "base_uri": "https://localhost:8080/"
        },
        "id": "NfQyZdP-bhYQ",
        "outputId": "85a6c005-7c51-4b15-8d7d-2ef441053e35"
      },
      "execution_count": null,
      "outputs": [
        {
          "output_type": "execute_result",
          "data": {
            "text/plain": [
              "6    26.0\n",
              "Name: rotation_period, dtype: float64"
            ]
          },
          "metadata": {},
          "execution_count": 55
        }
      ]
    },
    {
      "cell_type": "markdown",
      "source": [
        "E Naboo possui dias e noites bem mais longos que o comum."
      ],
      "metadata": {
        "id": "5huJX5QKfJlT"
      }
    },
    {
      "cell_type": "markdown",
      "source": [
        "________________________________________________________________________________"
      ],
      "metadata": {
        "id": "hLxZztyLhrK9"
      }
    },
    {
      "cell_type": "markdown",
      "source": [
        "Afim de demonstrar graficamente, um vislumbre de como alguns planetas possui uma rotação maior do que imaginavamos, fiz o plot abaixo."
      ],
      "metadata": {
        "id": "WTJoTZFGhvnM"
      }
    },
    {
      "cell_type": "code",
      "source": [
        "rot.plot(figsize=(15,5)).set(title='Rotação dos planetas')\n",
        "plt.xlabel('Planetas')\n",
        "plt.ylabel('Horas')\n",
        "plt.show()"
      ],
      "metadata": {
        "colab": {
          "base_uri": "https://localhost:8080/",
          "height": 350
        },
        "id": "poX80o3chu7W",
        "outputId": "868fc91c-87a7-41bf-e72f-5c70c3fb5638"
      },
      "execution_count": null,
      "outputs": [
        {
          "output_type": "display_data",
          "data": {
            "text/plain": [
              "<Figure size 1080x360 with 1 Axes>"
            ],
            "image/png": "[encoded data removed]"
          },
          "metadata": {
            "needs_background": "light"
          }
        }
      ]
    },
    {
      "cell_type": "markdown",
      "source": [
        "### **PART FINAL**"
      ],
      "metadata": {
        "id": "j__jvseEoT1V"
      }
    },
    {
      "cell_type": "markdown",
      "source": [
        "Visualizaremos um pouco sobre os veículos usados em Star Wars atraves do **csv - vehicles**"
      ],
      "metadata": {
        "id": "15LICWbjob1Y"
      }
    },
    {
      "cell_type": "code",
      "source": [
        "dfc = pd.read_csv('/content/vehicles.csv', sep=',')"
      ],
      "metadata": {
        "id": "0WsNknMraJbO"
      },
      "execution_count": null,
      "outputs": []
    },
    {
      "cell_type": "code",
      "source": [
        "dfc.head(5)"
      ],
      "metadata": {
        "colab": {
          "base_uri": "https://localhost:8080/",
          "height": 206
        },
        "id": "h_pR8G-caVfV",
        "outputId": "a759f79d-2ff1-40a4-e74b-6ad99e034e71"
      },
      "execution_count": null,
      "outputs": [
        {
          "output_type": "execute_result",
          "data": {
            "text/plain": [
              "                 name                           model  \\\n",
              "0        Sand Crawler                  Digger Crawler   \n",
              "1      T-16 skyhopper                  T-16 skyhopper   \n",
              "2    X-34 landspeeder                X-34 landspeeder   \n",
              "3  TIE/LN starfighter  Twin Ion Engine/Ln Starfighter   \n",
              "4         Snowspeeder                 t-47 airspeeder   \n",
              "\n",
              "                  manufacturer  cost_in_credits  length  \\\n",
              "0  Corellia Mining Corporation         150000.0    36.8   \n",
              "1            Incom Corporation          14500.0    10.4   \n",
              "2         SoroSuub Corporation          10550.0     3.4   \n",
              "3         Sienar Fleet Systems              NaN     6.4   \n",
              "4            Incom corporation              NaN     4.5   \n",
              "\n",
              "   max_atmosphering_speed  crew  passengers cargo_capacity consumables  \\\n",
              "0                    30.0    46        30.0          50000    2 months   \n",
              "1                  1200.0     1         1.0             50           0   \n",
              "2                   250.0     1         1.0              5         NaN   \n",
              "3                  1200.0     1         0.0             65      2 days   \n",
              "4                   650.0     2         0.0             10        none   \n",
              "\n",
              "   vehicle_class  \n",
              "0        wheeled  \n",
              "1  repulsorcraft  \n",
              "2  repulsorcraft  \n",
              "3    starfighter  \n",
              "4     airspeeder  "
            ],
            "text/html": [
              "\n",
              "  <div id=\"df-b9c86f0f-167e-4cf9-b2de-e53903fb68df\">\n",
              "    <div class=\"colab-df-container\">\n",
              "      <div>\n",
              "<style scoped>\n",
              "    .dataframe tbody tr th:only-of-type {\n",
              "        vertical-align: middle;\n",
              "    }\n",
              "\n",
              "    .dataframe tbody tr th {\n",
              "        vertical-align: top;\n",
              "    }\n",
              "\n",
              "    .dataframe thead th {\n",
              "        text-align: right;\n",
              "    }\n",
              "</style>\n",
              "<table border=\"1\" class=\"dataframe\">\n",
              "  <thead>\n",
              "    <tr style=\"text-align: right;\">\n",
              "      <th></th>\n",
              "      <th>name</th>\n",
              "      <th>model</th>\n",
              "      <th>manufacturer</th>\n",
              "      <th>cost_in_credits</th>\n",
              "      <th>length</th>\n",
              "      <th>max_atmosphering_speed</th>\n",
              "      <th>crew</th>\n",
              "      <th>passengers</th>\n",
              "      <th>cargo_capacity</th>\n",
              "      <th>consumables</th>\n",
              "      <th>vehicle_class</th>\n",
              "    </tr>\n",
              "  </thead>\n",
              "  <tbody>\n",
              "    <tr>\n",
              "      <th>0</th>\n",
              "      <td>Sand Crawler</td>\n",
              "      <td>Digger Crawler</td>\n",
              "      <td>Corellia Mining Corporation</td>\n",
              "      <td>150000.0</td>\n",
              "      <td>36.8</td>\n",
              "      <td>30.0</td>\n",
              "      <td>46</td>\n",
              "      <td>30.0</td>\n",
              "      <td>50000</td>\n",
              "      <td>2 months</td>\n",
              "      <td>wheeled</td>\n",
              "    </tr>\n",
              "    <tr>\n",
              "      <th>1</th>\n",
              "      <td>T-16 skyhopper</td>\n",
              "      <td>T-16 skyhopper</td>\n",
              "      <td>Incom Corporation</td>\n",
              "      <td>14500.0</td>\n",
              "      <td>10.4</td>\n",
              "      <td>1200.0</td>\n",
              "      <td>1</td>\n",
              "      <td>1.0</td>\n",
              "      <td>50</td>\n",
              "      <td>0</td>\n",
              "      <td>repulsorcraft</td>\n",
              "    </tr>\n",
              "    <tr>\n",
              "      <th>2</th>\n",
              "      <td>X-34 landspeeder</td>\n",
              "      <td>X-34 landspeeder</td>\n",
              "      <td>SoroSuub Corporation</td>\n",
              "      <td>10550.0</td>\n",
              "      <td>3.4</td>\n",
              "      <td>250.0</td>\n",
              "      <td>1</td>\n",
              "      <td>1.0</td>\n",
              "      <td>5</td>\n",
              "      <td>NaN</td>\n",
              "      <td>repulsorcraft</td>\n",
              "    </tr>\n",
              "    <tr>\n",
              "      <th>3</th>\n",
              "      <td>TIE/LN starfighter</td>\n",
              "      <td>Twin Ion Engine/Ln Starfighter</td>\n",
              "      <td>Sienar Fleet Systems</td>\n",
              "      <td>NaN</td>\n",
              "      <td>6.4</td>\n",
              "      <td>1200.0</td>\n",
              "      <td>1</td>\n",
              "      <td>0.0</td>\n",
              "      <td>65</td>\n",
              "      <td>2 days</td>\n",
              "      <td>starfighter</td>\n",
              "    </tr>\n",
              "    <tr>\n",
              "      <th>4</th>\n",
              "      <td>Snowspeeder</td>\n",
              "      <td>t-47 airspeeder</td>\n",
              "      <td>Incom corporation</td>\n",
              "      <td>NaN</td>\n",
              "      <td>4.5</td>\n",
              "      <td>650.0</td>\n",
              "      <td>2</td>\n",
              "      <td>0.0</td>\n",
              "      <td>10</td>\n",
              "      <td>none</td>\n",
              "      <td>airspeeder</td>\n",
              "    </tr>\n",
              "  </tbody>\n",
              "</table>\n",
              "</div>\n",
              "      <button class=\"colab-df-convert\" onclick=\"convertToInteractive('df-b9c86f0f-167e-4cf9-b2de-e53903fb68df')\"\n",
              "              title=\"Convert this dataframe to an interactive table.\"\n",
              "              style=\"display:none;\">\n",
              "        \n",
              "  <svg xmlns=\"http://www.w3.org/2000/svg\" height=\"24px\"viewBox=\"0 0 24 24\"\n",
              "       width=\"24px\">\n",
              "    <path d=\"M0 0h24v24H0V0z\" fill=\"none\"/>\n",
              "    <path d=\"M18.56 5.44l.94 2.06.94-2.06 2.06-.94-2.06-.94-.94-2.06-.94 2.06-2.06.94zm-11 1L8.5 8.5l.94-2.06 2.06-.94-2.06-.94L8.5 2.5l-.94 2.06-2.06.94zm10 10l.94 2.06.94-2.06 2.06-.94-2.06-.94-.94-2.06-.94 2.06-2.06.94z\"/><path d=\"M17.41 7.96l-1.37-1.37c-.4-.4-.92-.59-1.43-.59-.52 0-1.04.2-1.43.59L10.3 9.45l-7.72 7.72c-.78.78-.78 2.05 0 2.83L4 21.41c.39.39.9.59 1.41.59.51 0 1.02-.2 1.41-.59l7.78-7.78 2.81-2.81c.8-.78.8-2.07 0-2.86zM5.41 20L4 18.59l7.72-7.72 1.47 1.35L5.41 20z\"/>\n",
              "  </svg>\n",
              "      </button>\n",
              "      \n",
              "  <style>\n",
              "    .colab-df-container {\n",
              "      display:flex;\n",
              "      flex-wrap:wrap;\n",
              "      gap: 12px;\n",
              "    }\n",
              "\n",
              "    .colab-df-convert {\n",
              "      background-color: #E8F0FE;\n",
              "      border: none;\n",
              "      border-radius: 50%;\n",
              "      cursor: pointer;\n",
              "      display: none;\n",
              "      fill: #1967D2;\n",
              "      height: 32px;\n",
              "      padding: 0 0 0 0;\n",
              "      width: 32px;\n",
              "    }\n",
              "\n",
              "    .colab-df-convert:hover {\n",
              "      background-color: #E2EBFA;\n",
              "      box-shadow: 0px 1px 2px rgba(60, 64, 67, 0.3), 0px 1px 3px 1px rgba(60, 64, 67, 0.15);\n",
              "      fill: #174EA6;\n",
              "    }\n",
              "\n",
              "    [theme=dark] .colab-df-convert {\n",
              "      background-color: #3B4455;\n",
              "      fill: #D2E3FC;\n",
              "    }\n",
              "\n",
              "    [theme=dark] .colab-df-convert:hover {\n",
              "      background-color: #434B5C;\n",
              "      box-shadow: 0px 1px 3px 1px rgba(0, 0, 0, 0.15);\n",
              "      filter: drop-shadow(0px 1px 2px rgba(0, 0, 0, 0.3));\n",
              "      fill: #FFFFFF;\n",
              "    }\n",
              "  </style>\n",
              "\n",
              "      <script>\n",
              "        const buttonEl =\n",
              "          document.querySelector('#df-b9c86f0f-167e-4cf9-b2de-e53903fb68df button.colab-df-convert');\n",
              "        buttonEl.style.display =\n",
              "          google.colab.kernel.accessAllowed ? 'block' : 'none';\n",
              "\n",
              "        async function convertToInteractive(key) {\n",
              "          const element = document.querySelector('#df-b9c86f0f-167e-4cf9-b2de-e53903fb68df');\n",
              "          const dataTable =\n",
              "            await google.colab.kernel.invokeFunction('convertToInteractive',\n",
              "                                                     [key], {});\n",
              "          if (!dataTable) return;\n",
              "\n",
              "          const docLinkHtml = 'Like what you see? Visit the ' +\n",
              "            '<a target=\"_blank\" href=https://colab.research.google.com/notebooks/data_table.ipynb>data table notebook</a>'\n",
              "            + ' to learn more about interactive tables.';\n",
              "          element.innerHTML = '';\n",
              "          dataTable['output_type'] = 'display_data';\n",
              "          await google.colab.output.renderOutput(dataTable, element);\n",
              "          const docLink = document.createElement('div');\n",
              "          docLink.innerHTML = docLinkHtml;\n",
              "          element.appendChild(docLink);\n",
              "        }\n",
              "      </script>\n",
              "    </div>\n",
              "  </div>\n",
              "  "
            ]
          },
          "metadata": {},
          "execution_count": 58
        }
      ]
    },
    {
      "cell_type": "markdown",
      "source": [
        "**Quais seriam os veículos, mais utilizado?**"
      ],
      "metadata": {
        "id": "W0ZD8HFno9fG"
      }
    },
    {
      "cell_type": "code",
      "source": [
        "dfc[\"vehicle_class\"].value_counts(normalize=True).round(2)"
      ],
      "metadata": {
        "colab": {
          "base_uri": "https://localhost:8080/"
        },
        "id": "xXrEiwAFpGld",
        "outputId": "3ff50c21-b987-4783-d377-4a65218cea18"
      },
      "execution_count": null,
      "outputs": [
        {
          "output_type": "execute_result",
          "data": {
            "text/plain": [
              "repulsorcraft                0.18\n",
              "airspeeder                   0.13\n",
              "starfighter                  0.10\n",
              "walker                       0.10\n",
              "speeder                      0.08\n",
              "gunship                      0.05\n",
              "wheeled walker               0.05\n",
              "droid tank                   0.03\n",
              "air speeder                  0.03\n",
              "droid starfighter            0.03\n",
              "fire suppression ship        0.03\n",
              "wheeled                      0.03\n",
              "submarine                    0.03\n",
              "landing craft                0.03\n",
              "repulsorcraft cargo skiff    0.03\n",
              "sail barge                   0.03\n",
              "assault walker               0.03\n",
              "space/planetary bomber       0.03\n",
              "transport                    0.03\n",
              "Name: vehicle_class, dtype: float64"
            ]
          },
          "metadata": {},
          "execution_count": 59
        }
      ]
    },
    {
      "cell_type": "markdown",
      "source": [
        "Desta forma podemos ver que o **RepulsorCraft** é o veículo mais usado e o menos usado é o **Transport**. Agora, vamos colocar essa análise de um forma mais visual:"
      ],
      "metadata": {
        "id": "Kgdou0e_vK8V"
      }
    },
    {
      "cell_type": "code",
      "source": [
        "# Vamos plotar um grafico de barras para facilitar visualização.\n",
        "graf = sns.catplot(data=dfc, y='vehicle_class', kind='count', palette = 'coolwarm', order=dfc[\"vehicle_class\"].value_counts().index).set(title='Veículos mais usados')\n",
        "plt.xlabel('Quantidade')\n",
        "plt.ylabel('Classe do Veiculo')\n",
        "plt.show()"
      ],
      "metadata": {
        "colab": {
          "base_uri": "https://localhost:8080/",
          "height": 385
        },
        "id": "luDjmo65vxoa",
        "outputId": "3b9b518a-ceac-46c7-e93d-3c88435f9c0d"
      },
      "execution_count": null,
      "outputs": [
        {
          "output_type": "display_data",
          "data": {
            "text/plain": [
              "<Figure size 360x360 with 1 Axes>"
            ],
            "image/png": "[encoded data removed]"
          },
          "metadata": {
            "needs_background": "light"
          }
        }
      ]
    },
    {
      "cell_type": "markdown",
      "source": [
        "Devido aos mundos sempre estarém em conflitos galáticos o **RepulsorCraft** é mais usado por ser uma classe de veículo de combate e desta forma podendo lutar as guerras planetárias e galáticas. "
      ],
      "metadata": {
        "id": "MXJFq4ki3s13"
      }
    },
    {
      "cell_type": "markdown",
      "source": [
        "Vamos entender à média de velocidade dos veículos da classe **RepulsorCraft**"
      ],
      "metadata": {
        "id": "qwgJ8Ug56XPL"
      }
    },
    {
      "cell_type": "code",
      "source": [
        "spdMean = dfc.groupby(['vehicle_class']).agg({\"max_atmosphering_speed\": \"mean\"}).dropna()\n",
        "spdMean"
      ],
      "metadata": {
        "colab": {
          "base_uri": "https://localhost:8080/",
          "height": 645
        },
        "id": "5sO65Ddc6W0P",
        "outputId": "c567be19-aad7-4fbe-dabd-8f5efc1f1c0e"
      },
      "execution_count": null,
      "outputs": [
        {
          "output_type": "execute_result",
          "data": {
            "text/plain": [
              "                           max_atmosphering_speed\n",
              "vehicle_class                                    \n",
              "air speeder                            310.000000\n",
              "airspeeder                             682.000000\n",
              "assault walker                          60.000000\n",
              "droid starfighter                     1180.000000\n",
              "droid tank                             100.000000\n",
              "gunship                                620.000000\n",
              "landing craft                          587.000000\n",
              "repulsorcraft                          541.428571\n",
              "repulsorcraft cargo skiff              250.000000\n",
              "sail barge                             100.000000\n",
              "space/planetary bomber                 850.000000\n",
              "speeder                                391.333333\n",
              "starfighter                           5912.500000\n",
              "submarine                               85.000000\n",
              "transport                              880.000000\n",
              "walker                                  68.750000\n",
              "wheeled                                 30.000000\n",
              "wheeled walker                         245.000000"
            ],
            "text/html": [
              "\n",
              "  <div id=\"df-cefe9d97-b496-46e4-88f1-f98121032ac5\">\n",
              "    <div class=\"colab-df-container\">\n",
              "      <div>\n",
              "<style scoped>\n",
              "    .dataframe tbody tr th:only-of-type {\n",
              "        vertical-align: middle;\n",
              "    }\n",
              "\n",
              "    .dataframe tbody tr th {\n",
              "        vertical-align: top;\n",
              "    }\n",
              "\n",
              "    .dataframe thead th {\n",
              "        text-align: right;\n",
              "    }\n",
              "</style>\n",
              "<table border=\"1\" class=\"dataframe\">\n",
              "  <thead>\n",
              "    <tr style=\"text-align: right;\">\n",
              "      <th></th>\n",
              "      <th>max_atmosphering_speed</th>\n",
              "    </tr>\n",
              "    <tr>\n",
              "      <th>vehicle_class</th>\n",
              "      <th></th>\n",
              "    </tr>\n",
              "  </thead>\n",
              "  <tbody>\n",
              "    <tr>\n",
              "      <th>air speeder</th>\n",
              "      <td>310.000000</td>\n",
              "    </tr>\n",
              "    <tr>\n",
              "      <th>airspeeder</th>\n",
              "      <td>682.000000</td>\n",
              "    </tr>\n",
              "    <tr>\n",
              "      <th>assault walker</th>\n",
              "      <td>60.000000</td>\n",
              "    </tr>\n",
              "    <tr>\n",
              "      <th>droid starfighter</th>\n",
              "      <td>1180.000000</td>\n",
              "    </tr>\n",
              "    <tr>\n",
              "      <th>droid tank</th>\n",
              "      <td>100.000000</td>\n",
              "    </tr>\n",
              "    <tr>\n",
              "      <th>gunship</th>\n",
              "      <td>620.000000</td>\n",
              "    </tr>\n",
              "    <tr>\n",
              "      <th>landing craft</th>\n",
              "      <td>587.000000</td>\n",
              "    </tr>\n",
              "    <tr>\n",
              "      <th>repulsorcraft</th>\n",
              "      <td>541.428571</td>\n",
              "    </tr>\n",
              "    <tr>\n",
              "      <th>repulsorcraft cargo skiff</th>\n",
              "      <td>250.000000</td>\n",
              "    </tr>\n",
              "    <tr>\n",
              "      <th>sail barge</th>\n",
              "      <td>100.000000</td>\n",
              "    </tr>\n",
              "    <tr>\n",
              "      <th>space/planetary bomber</th>\n",
              "      <td>850.000000</td>\n",
              "    </tr>\n",
              "    <tr>\n",
              "      <th>speeder</th>\n",
              "      <td>391.333333</td>\n",
              "    </tr>\n",
              "    <tr>\n",
              "      <th>starfighter</th>\n",
              "      <td>5912.500000</td>\n",
              "    </tr>\n",
              "    <tr>\n",
              "      <th>submarine</th>\n",
              "      <td>85.000000</td>\n",
              "    </tr>\n",
              "    <tr>\n",
              "      <th>transport</th>\n",
              "      <td>880.000000</td>\n",
              "    </tr>\n",
              "    <tr>\n",
              "      <th>walker</th>\n",
              "      <td>68.750000</td>\n",
              "    </tr>\n",
              "    <tr>\n",
              "      <th>wheeled</th>\n",
              "      <td>30.000000</td>\n",
              "    </tr>\n",
              "    <tr>\n",
              "      <th>wheeled walker</th>\n",
              "      <td>245.000000</td>\n",
              "    </tr>\n",
              "  </tbody>\n",
              "</table>\n",
              "</div>\n",
              "      <button class=\"colab-df-convert\" onclick=\"convertToInteractive('df-cefe9d97-b496-46e4-88f1-f98121032ac5')\"\n",
              "              title=\"Convert this dataframe to an interactive table.\"\n",
              "              style=\"display:none;\">\n",
              "        \n",
              "  <svg xmlns=\"http://www.w3.org/2000/svg\" height=\"24px\"viewBox=\"0 0 24 24\"\n",
              "       width=\"24px\">\n",
              "    <path d=\"M0 0h24v24H0V0z\" fill=\"none\"/>\n",
              "    <path d=\"M18.56 5.44l.94 2.06.94-2.06 2.06-.94-2.06-.94-.94-2.06-.94 2.06-2.06.94zm-11 1L8.5 8.5l.94-2.06 2.06-.94-2.06-.94L8.5 2.5l-.94 2.06-2.06.94zm10 10l.94 2.06.94-2.06 2.06-.94-2.06-.94-.94-2.06-.94 2.06-2.06.94z\"/><path d=\"M17.41 7.96l-1.37-1.37c-.4-.4-.92-.59-1.43-.59-.52 0-1.04.2-1.43.59L10.3 9.45l-7.72 7.72c-.78.78-.78 2.05 0 2.83L4 21.41c.39.39.9.59 1.41.59.51 0 1.02-.2 1.41-.59l7.78-7.78 2.81-2.81c.8-.78.8-2.07 0-2.86zM5.41 20L4 18.59l7.72-7.72 1.47 1.35L5.41 20z\"/>\n",
              "  </svg>\n",
              "      </button>\n",
              "      \n",
              "  <style>\n",
              "    .colab-df-container {\n",
              "      display:flex;\n",
              "      flex-wrap:wrap;\n",
              "      gap: 12px;\n",
              "    }\n",
              "\n",
              "    .colab-df-convert {\n",
              "      background-color: #E8F0FE;\n",
              "      border: none;\n",
              "      border-radius: 50%;\n",
              "      cursor: pointer;\n",
              "      display: none;\n",
              "      fill: #1967D2;\n",
              "      height: 32px;\n",
              "      padding: 0 0 0 0;\n",
              "      width: 32px;\n",
              "    }\n",
              "\n",
              "    .colab-df-convert:hover {\n",
              "      background-color: #E2EBFA;\n",
              "      box-shadow: 0px 1px 2px rgba(60, 64, 67, 0.3), 0px 1px 3px 1px rgba(60, 64, 67, 0.15);\n",
              "      fill: #174EA6;\n",
              "    }\n",
              "\n",
              "    [theme=dark] .colab-df-convert {\n",
              "      background-color: #3B4455;\n",
              "      fill: #D2E3FC;\n",
              "    }\n",
              "\n",
              "    [theme=dark] .colab-df-convert:hover {\n",
              "      background-color: #434B5C;\n",
              "      box-shadow: 0px 1px 3px 1px rgba(0, 0, 0, 0.15);\n",
              "      filter: drop-shadow(0px 1px 2px rgba(0, 0, 0, 0.3));\n",
              "      fill: #FFFFFF;\n",
              "    }\n",
              "  </style>\n",
              "\n",
              "      <script>\n",
              "        const buttonEl =\n",
              "          document.querySelector('#df-cefe9d97-b496-46e4-88f1-f98121032ac5 button.colab-df-convert');\n",
              "        buttonEl.style.display =\n",
              "          google.colab.kernel.accessAllowed ? 'block' : 'none';\n",
              "\n",
              "        async function convertToInteractive(key) {\n",
              "          const element = document.querySelector('#df-cefe9d97-b496-46e4-88f1-f98121032ac5');\n",
              "          const dataTable =\n",
              "            await google.colab.kernel.invokeFunction('convertToInteractive',\n",
              "                                                     [key], {});\n",
              "          if (!dataTable) return;\n",
              "\n",
              "          const docLinkHtml = 'Like what you see? Visit the ' +\n",
              "            '<a target=\"_blank\" href=https://colab.research.google.com/notebooks/data_table.ipynb>data table notebook</a>'\n",
              "            + ' to learn more about interactive tables.';\n",
              "          element.innerHTML = '';\n",
              "          dataTable['output_type'] = 'display_data';\n",
              "          await google.colab.output.renderOutput(dataTable, element);\n",
              "          const docLink = document.createElement('div');\n",
              "          docLink.innerHTML = docLinkHtml;\n",
              "          element.appendChild(docLink);\n",
              "        }\n",
              "      </script>\n",
              "    </div>\n",
              "  </div>\n",
              "  "
            ]
          },
          "metadata": {},
          "execution_count": 70
        }
      ]
    },
    {
      "cell_type": "code",
      "source": [
        "sns.displot(data=spdMean, y=\"vehicle_class\", x='max_atmosphering_speed', kind='hist', palette = 'coolwarm')\n",
        "plt.title('Comparativo de velocidade dos veículos')\n",
        "plt.xlabel('velocidade maxima na atmosfera')\n",
        "plt.ylabel('Classe de veículos')\n",
        "plt.show()"
      ],
      "metadata": {
        "colab": {
          "base_uri": "https://localhost:8080/",
          "height": 384
        },
        "id": "3yLNFkZsQjg0",
        "outputId": "dafbfdeb-4c50-455b-a521-0a53b785907b"
      },
      "execution_count": null,
      "outputs": [
        {
          "output_type": "display_data",
          "data": {
            "text/plain": [
              "<Figure size 360x360 with 1 Axes>"
            ],
            "image/png": "[encoded data removed]"
          },
          "metadata": {
            "needs_background": "light"
          }
        }
      ]
    },
    {
      "cell_type": "markdown",
      "source": [
        "Concluimos que existem outras classes de veículos tais como: **starfighter** que são mais rápidas, porém não são as mais usadas.\n",
        "\n",
        "Um pouco conhecedor do universo que sou, imagino que seja por conta da estrutura da nave sem frágil e relação as outras. "
      ],
      "metadata": {
        "id": "AdCWhr41TfUr"
      }
    },
    {
      "cell_type": "code",
      "source": [
        "dfc.get(dfc['vehicle_class'] == 'repulsorcraft').mean()"
      ],
      "metadata": {
        "colab": {
          "base_uri": "https://localhost:8080/"
        },
        "id": "hmmScTTyOy0t",
        "outputId": "b77e9d9a-96fb-463b-8749-28c19c67e031"
      },
      "execution_count": null,
      "outputs": [
        {
          "output_type": "stream",
          "name": "stderr",
          "text": [
            "/usr/local/lib/python3.7/dist-packages/ipykernel_launcher.py:1: FutureWarning: Dropping of nuisance columns in DataFrame reductions (with 'numeric_only=None') is deprecated; in a future version this will raise TypeError.  Select only valid columns before calling the reduction.\n",
            "  \"\"\"Entry point for launching an IPython kernel.\n"
          ]
        },
        {
          "output_type": "execute_result",
          "data": {
            "text/plain": [
              "cost_in_credits           41050.000000\n",
              "length                        9.604286\n",
              "max_atmosphering_speed      541.428571\n",
              "crew                          2.000000\n",
              "passengers                   17.285714\n",
              "dtype: float64"
            ]
          },
          "metadata": {},
          "execution_count": 81
        }
      ]
    },
    {
      "cell_type": "markdown",
      "source": [
        "O metodo .mean() trás para nós o 'average', vulgo média referente aqulo que  estamos selecionando, neste caso foi definido o **RepulsorCraft**.\n",
        "Podemos concluir que está classe de veículos possui uma média de:\n",
        "\n",
        "\n",
        "\n",
        "1.   Custo: 41.050 Credits\n",
        "2.   Comprimento de: 9.60T\n",
        "3.   Velocidade Max: 541.42\n",
        "4.   Crew: Tem uma capacidade média para 2 membros da tripulação\n",
        "5.   Passageiros: Uma média de 17 passageiros por nave"
      ],
      "metadata": {
        "id": "1oll_Vj1Ufnc"
      }
    },
    {
      "cell_type": "markdown",
      "source": [
        "E desta forma encerro o meu primeiro projeto voltado totalmente à utilização de Python e suas bibliotecas para o tratamento de um **DATASET**, como **PANDAS**, **SEABORN** e **MATPLOTLIB**\n",
        "\n",
        "Obrigado!"
      ],
      "metadata": {
        "id": "CGMVFyLA2gJW"
      }
    }
  ]
}